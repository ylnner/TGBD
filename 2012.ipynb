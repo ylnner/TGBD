{
 "cells": [
  {
   "cell_type": "code",
   "execution_count": 29,
   "metadata": {},
   "outputs": [],
   "source": [
    "import pandas as pd\n",
    "import numpy as np"
   ]
  },
  {
   "cell_type": "code",
   "execution_count": 30,
   "metadata": {},
   "outputs": [],
   "source": [
    "df = pd.read_csv('DADOS_ENEM_2012.csv', encoding='iso-8859-1', sep = ',')"
   ]
  },
  {
   "cell_type": "code",
   "execution_count": 31,
   "metadata": {},
   "outputs": [
    {
     "data": {
      "text/html": [
       "<div>\n",
       "<style scoped>\n",
       "    .dataframe tbody tr th:only-of-type {\n",
       "        vertical-align: middle;\n",
       "    }\n",
       "\n",
       "    .dataframe tbody tr th {\n",
       "        vertical-align: top;\n",
       "    }\n",
       "\n",
       "    .dataframe thead th {\n",
       "        text-align: right;\n",
       "    }\n",
       "</style>\n",
       "<table border=\"1\" class=\"dataframe\">\n",
       "  <thead>\n",
       "    <tr style=\"text-align: right;\">\n",
       "      <th></th>\n",
       "      <th>NU_INSCRICAO</th>\n",
       "      <th>NU_ANO</th>\n",
       "      <th>IDADE</th>\n",
       "      <th>TP_SEXO</th>\n",
       "      <th>COD_MUNICIPIO_INSC</th>\n",
       "      <th>NO_MUNICIPIO_INSC</th>\n",
       "      <th>UF_INSC</th>\n",
       "      <th>ST_CONCLUSAO</th>\n",
       "      <th>ANO_CONCLUIU</th>\n",
       "      <th>TP_ESCOLA</th>\n",
       "      <th>...</th>\n",
       "      <th>DS_GABARITO_CH</th>\n",
       "      <th>DS_GABARITO_LC</th>\n",
       "      <th>DS_GABARITO_MT</th>\n",
       "      <th>IN_STATUS_REDACAO</th>\n",
       "      <th>NU_NOTA_COMP1</th>\n",
       "      <th>NU_NOTA_COMP2</th>\n",
       "      <th>NU_NOTA_COMP3</th>\n",
       "      <th>NU_NOTA_COMP4</th>\n",
       "      <th>NU_NOTA_COMP5</th>\n",
       "      <th>NU_NOTA_REDACAO</th>\n",
       "    </tr>\n",
       "  </thead>\n",
       "  <tbody>\n",
       "    <tr>\n",
       "      <td>0</td>\n",
       "      <td>400000000001</td>\n",
       "      <td>2012</td>\n",
       "      <td>40</td>\n",
       "      <td>0</td>\n",
       "      <td>2933307</td>\n",
       "      <td>VITORIA DA CONQUISTA</td>\n",
       "      <td>BA</td>\n",
       "      <td>1</td>\n",
       "      <td>2003</td>\n",
       "      <td>.</td>\n",
       "      <td>...</td>\n",
       "      <td>NaN</td>\n",
       "      <td>NaN</td>\n",
       "      <td>NaN</td>\n",
       "      <td>F</td>\n",
       "      <td>.</td>\n",
       "      <td>.</td>\n",
       "      <td>.</td>\n",
       "      <td>.</td>\n",
       "      <td>.</td>\n",
       "      <td>.</td>\n",
       "    </tr>\n",
       "    <tr>\n",
       "      <td>1</td>\n",
       "      <td>400000000002</td>\n",
       "      <td>2012</td>\n",
       "      <td>18</td>\n",
       "      <td>0</td>\n",
       "      <td>2611606</td>\n",
       "      <td>RECIFE</td>\n",
       "      <td>PE</td>\n",
       "      <td>1</td>\n",
       "      <td>2011</td>\n",
       "      <td>.</td>\n",
       "      <td>...</td>\n",
       "      <td>EADBAABDCEBDDCEEEECEBCDADCEDAECABEEEAEEECACDA</td>\n",
       "      <td>ADDBBADACBAADAEBDDCEBEEEDECDABEACBDBAAAADEDAAB...</td>\n",
       "      <td>EABEEECBDADEDCCCBDEBDECDBCAEEBEDBDEDADBDDCABA</td>\n",
       "      <td>P</td>\n",
       "      <td>80</td>\n",
       "      <td>60</td>\n",
       "      <td>60</td>\n",
       "      <td>80</td>\n",
       "      <td>0</td>\n",
       "      <td>280</td>\n",
       "    </tr>\n",
       "    <tr>\n",
       "      <td>2</td>\n",
       "      <td>400000000003</td>\n",
       "      <td>2012</td>\n",
       "      <td>20</td>\n",
       "      <td>1</td>\n",
       "      <td>3301702</td>\n",
       "      <td>DUQUE DE CAXIAS</td>\n",
       "      <td>RJ</td>\n",
       "      <td>1</td>\n",
       "      <td>2011</td>\n",
       "      <td>.</td>\n",
       "      <td>...</td>\n",
       "      <td>NaN</td>\n",
       "      <td>NaN</td>\n",
       "      <td>NaN</td>\n",
       "      <td>F</td>\n",
       "      <td>.</td>\n",
       "      <td>.</td>\n",
       "      <td>.</td>\n",
       "      <td>.</td>\n",
       "      <td>.</td>\n",
       "      <td>.</td>\n",
       "    </tr>\n",
       "    <tr>\n",
       "      <td>3</td>\n",
       "      <td>400000000004</td>\n",
       "      <td>2012</td>\n",
       "      <td>30</td>\n",
       "      <td>0</td>\n",
       "      <td>5300108</td>\n",
       "      <td>BRASILIA</td>\n",
       "      <td>DF</td>\n",
       "      <td>1</td>\n",
       "      <td>2010</td>\n",
       "      <td>.</td>\n",
       "      <td>...</td>\n",
       "      <td>AABDEEEEEACEBCEBDBDDCCDDAECABEEECDACEADAEEECA</td>\n",
       "      <td>ADDBBADABCAADAAABAAAEBEDEABEDDCEBEEACBCDDBADED...</td>\n",
       "      <td>DEBDDEDAADEDEABEAEEEECCCBCABACBDBEDBDBDDECDBC</td>\n",
       "      <td>P</td>\n",
       "      <td>140</td>\n",
       "      <td>160</td>\n",
       "      <td>140</td>\n",
       "      <td>160</td>\n",
       "      <td>120</td>\n",
       "      <td>720</td>\n",
       "    </tr>\n",
       "    <tr>\n",
       "      <td>4</td>\n",
       "      <td>400000000005</td>\n",
       "      <td>2012</td>\n",
       "      <td>20</td>\n",
       "      <td>0</td>\n",
       "      <td>3304557</td>\n",
       "      <td>RIO DE JANEIRO</td>\n",
       "      <td>RJ</td>\n",
       "      <td>1</td>\n",
       "      <td>2010</td>\n",
       "      <td>.</td>\n",
       "      <td>...</td>\n",
       "      <td>NaN</td>\n",
       "      <td>NaN</td>\n",
       "      <td>NaN</td>\n",
       "      <td>F</td>\n",
       "      <td>.</td>\n",
       "      <td>.</td>\n",
       "      <td>.</td>\n",
       "      <td>.</td>\n",
       "      <td>.</td>\n",
       "      <td>.</td>\n",
       "    </tr>\n",
       "  </tbody>\n",
       "</table>\n",
       "<p>5 rows × 80 columns</p>\n",
       "</div>"
      ],
      "text/plain": [
       "   NU_INSCRICAO  NU_ANO  IDADE  TP_SEXO  COD_MUNICIPIO_INSC  \\\n",
       "0  400000000001    2012     40        0             2933307   \n",
       "1  400000000002    2012     18        0             2611606   \n",
       "2  400000000003    2012     20        1             3301702   \n",
       "3  400000000004    2012     30        0             5300108   \n",
       "4  400000000005    2012     20        0             3304557   \n",
       "\n",
       "      NO_MUNICIPIO_INSC UF_INSC  ST_CONCLUSAO ANO_CONCLUIU TP_ESCOLA  ...  \\\n",
       "0  VITORIA DA CONQUISTA      BA             1         2003         .  ...   \n",
       "1                RECIFE      PE             1         2011         .  ...   \n",
       "2       DUQUE DE CAXIAS      RJ             1         2011         .  ...   \n",
       "3              BRASILIA      DF             1         2010         .  ...   \n",
       "4        RIO DE JANEIRO      RJ             1         2010         .  ...   \n",
       "\n",
       "                                  DS_GABARITO_CH  \\\n",
       "0                                            NaN   \n",
       "1  EADBAABDCEBDDCEEEECEBCDADCEDAECABEEEAEEECACDA   \n",
       "2                                            NaN   \n",
       "3  AABDEEEEEACEBCEBDBDDCCDDAECABEEECDACEADAEEECA   \n",
       "4                                            NaN   \n",
       "\n",
       "                                      DS_GABARITO_LC  \\\n",
       "0                                                NaN   \n",
       "1  ADDBBADACBAADAEBDDCEBEEEDECDABEACBDBAAAADEDAAB...   \n",
       "2                                                NaN   \n",
       "3  ADDBBADABCAADAAABAAAEBEDEABEDDCEBEEACBCDDBADED...   \n",
       "4                                                NaN   \n",
       "\n",
       "                                  DS_GABARITO_MT  IN_STATUS_REDACAO  \\\n",
       "0                                            NaN                  F   \n",
       "1  EABEEECBDADEDCCCBDEBDECDBCAEEBEDBDEDADBDDCABA                  P   \n",
       "2                                            NaN                  F   \n",
       "3  DEBDDEDAADEDEABEAEEEECCCBCABACBDBEDBDBDDECDBC                  P   \n",
       "4                                            NaN                  F   \n",
       "\n",
       "   NU_NOTA_COMP1  NU_NOTA_COMP2  NU_NOTA_COMP3  NU_NOTA_COMP4  NU_NOTA_COMP5  \\\n",
       "0              .              .              .              .              .   \n",
       "1             80             60             60             80              0   \n",
       "2              .              .              .              .              .   \n",
       "3            140            160            140            160            120   \n",
       "4              .              .              .              .              .   \n",
       "\n",
       "   NU_NOTA_REDACAO  \n",
       "0                .  \n",
       "1              280  \n",
       "2                .  \n",
       "3              720  \n",
       "4                .  \n",
       "\n",
       "[5 rows x 80 columns]"
      ]
     },
     "execution_count": 31,
     "metadata": {},
     "output_type": "execute_result"
    }
   ],
   "source": [
    "df.head()"
   ]
  },
  {
   "cell_type": "code",
   "execution_count": 32,
   "metadata": {},
   "outputs": [
    {
     "data": {
      "text/plain": [
       ".    4265184\n",
       "2    1182940\n",
       "4     298591\n",
       "1      26254\n",
       "3      18096\n",
       "Name: ID_DEPENDENCIA_ADM, dtype: int64"
      ]
     },
     "execution_count": 32,
     "metadata": {},
     "output_type": "execute_result"
    }
   ],
   "source": [
    "totalGlobal = df.shape[0]\n",
    "df['ID_DEPENDENCIA_ADM'].value_counts()"
   ]
  },
  {
   "cell_type": "code",
   "execution_count": 33,
   "metadata": {},
   "outputs": [],
   "source": [
    "df.loc[df['ID_DEPENDENCIA_ADM'] == '.', ['ID_DEPENDENCIA_ADM']] = np.nan"
   ]
  },
  {
   "cell_type": "code",
   "execution_count": 34,
   "metadata": {},
   "outputs": [
    {
     "data": {
      "text/plain": [
       "2    1182940\n",
       "4     298591\n",
       "1      26254\n",
       "3      18096\n",
       "Name: ID_DEPENDENCIA_ADM, dtype: int64"
      ]
     },
     "execution_count": 34,
     "metadata": {},
     "output_type": "execute_result"
    }
   ],
   "source": [
    "df['ID_DEPENDENCIA_ADM'].value_counts()"
   ]
  },
  {
   "cell_type": "code",
   "execution_count": 35,
   "metadata": {},
   "outputs": [
    {
     "name": "stdout",
     "output_type": "stream",
     "text": [
      "5791065\n"
     ]
    }
   ],
   "source": [
    "print(totalGlobal)"
   ]
  },
  {
   "cell_type": "code",
   "execution_count": 36,
   "metadata": {},
   "outputs": [],
   "source": [
    "df = df[pd.notnull(df['ID_DEPENDENCIA_ADM'])]"
   ]
  },
  {
   "cell_type": "code",
   "execution_count": 37,
   "metadata": {},
   "outputs": [
    {
     "data": {
      "text/plain": [
       "(1525881, 80)"
      ]
     },
     "execution_count": 37,
     "metadata": {},
     "output_type": "execute_result"
    }
   ],
   "source": [
    "df.shape"
   ]
  },
  {
   "cell_type": "markdown",
   "metadata": {},
   "source": [
    "## Values NaN"
   ]
  },
  {
   "cell_type": "code",
   "execution_count": 38,
   "metadata": {},
   "outputs": [
    {
     "name": "stdout",
     "output_type": "stream",
     "text": [
      "NO_ENTIDADE_CERTIFICACAO => 1321103\n",
      "UF_ENTIDADE_CERTIFICACAO => 1321103\n",
      "TX_RESPOSTAS_CN => 242395\n",
      "TX_RESPOSTAS_CH => 242395\n",
      "TX_RESPOSTAS_LC => 266840\n",
      "TX_RESPOSTAS_MT => 266840\n",
      "DS_GABARITO_CN => 242665\n",
      "DS_GABARITO_CH => 242665\n",
      "DS_GABARITO_LC => 266871\n",
      "DS_GABARITO_MT => 266871\n",
      "schools_without_null:  1525881\n"
     ]
    }
   ],
   "source": [
    "nullvalues = (df.isnull().sum())\n",
    "total_size = df.shape[0]\n",
    "schools_without_null = 0\n",
    "columns = list(df)\n",
    "for idx, col in enumerate(columns):\n",
    "    if col == 'ID_DEPENDENCIA_ADM':\n",
    "        schools_without_null = total_size - nullvalues[idx]\n",
    "    if nullvalues[idx] > 0:\n",
    "        print(col + ' => '+str(nullvalues[idx]))\n",
    "print('schools_without_null: ', schools_without_null)"
   ]
  },
  {
   "cell_type": "markdown",
   "metadata": {},
   "source": [
    "## Porcentage of available data"
   ]
  },
  {
   "cell_type": "code",
   "execution_count": 39,
   "metadata": {},
   "outputs": [
    {
     "name": "stdout",
     "output_type": "stream",
     "text": [
      "26.348884013562273\n"
     ]
    }
   ],
   "source": [
    "# total = df.shape[0]\n",
    "\n",
    "porcentage = (schools_without_null * 100) / totalGlobal\n",
    "print(porcentage)"
   ]
  },
  {
   "cell_type": "code",
   "execution_count": 40,
   "metadata": {},
   "outputs": [
    {
     "data": {
      "text/plain": [
       "(1525881, 80)"
      ]
     },
     "execution_count": 40,
     "metadata": {},
     "output_type": "execute_result"
    }
   ],
   "source": [
    "df.shape"
   ]
  },
  {
   "cell_type": "markdown",
   "metadata": {},
   "source": [
    "## Tipo de Escola"
   ]
  },
  {
   "cell_type": "code",
   "execution_count": 41,
   "metadata": {},
   "outputs": [
    {
     "data": {
      "text/plain": [
       "3      18096\n",
       "2    1182940\n",
       "1      26254\n",
       "4     298591\n",
       "Name: ID_DEPENDENCIA_ADM, dtype: int64"
      ]
     },
     "execution_count": 41,
     "metadata": {},
     "output_type": "execute_result"
    }
   ],
   "source": [
    "df['ID_DEPENDENCIA_ADM'].value_counts(sort = False)"
   ]
  },
  {
   "cell_type": "code",
   "execution_count": 53,
   "metadata": {},
   "outputs": [
    {
     "name": "stdout",
     "output_type": "stream",
     "text": [
      "1 1.7205797830892449 26254\n",
      "2 77.52504946322813 1182940\n",
      "3 1.185937828703549 18096\n",
      "4 19.568432924979078 298591\n"
     ]
    }
   ],
   "source": [
    "a = df['ID_DEPENDENCIA_ADM'].value_counts(sort = False).to_dict()\n",
    "values_percent_to_save = []\n",
    "values_to_save = []\n",
    "for idx, value in sorted(a.items()):\n",
    "    x = (value * 100) / schools_without_null\n",
    "    values_percent_to_save.append(x)\n",
    "    values_to_save.append(value)\n",
    "    print(idx, x, value)\n"
   ]
  },
  {
   "cell_type": "code",
   "execution_count": 52,
   "metadata": {},
   "outputs": [],
   "source": [
    "# csv_input = pd.read_csv('results_for_school.csv')\n",
    "df_aux = pd.DataFrame(values_percent_to_save, columns = ['2012'])\n",
    "df_aux['2012_values'] = values_to_save\n",
    "\n",
    "df_aux.head()\n",
    "export_csv = df_aux.to_csv (r'results_for_school.csv', index = None, header=True)"
   ]
  },
  {
   "cell_type": "markdown",
   "metadata": {},
   "source": [
    "## Alumno con necesidades especiales"
   ]
  },
  {
   "cell_type": "code",
   "execution_count": 44,
   "metadata": {},
   "outputs": [
    {
     "data": {
      "text/plain": [
       "(1525881, 80)"
      ]
     },
     "execution_count": 44,
     "metadata": {},
     "output_type": "execute_result"
    }
   ],
   "source": [
    "df.shape"
   ]
  },
  {
   "cell_type": "code",
   "execution_count": 45,
   "metadata": {},
   "outputs": [
    {
     "name": "stdout",
     "output_type": "stream",
     "text": [
      "There is not elements on:  IN_SURDO_CEGUEIRA\n",
      "There is not elements on:  IN_OUTRA_DEF\n",
      "total_necesidades:  19455\n",
      "1.2750011304944489\n"
     ]
    }
   ],
   "source": [
    "array = ['IN_BAIXA_VISAO', 'IN_CEGUEIRA', 'IN_SURDEZ', 'IN_DEFICIENCIA_AUDITIVA', 'IN_SURDO_CEGUEIRA', 'IN_DEFICIENCIA_FISICA', 'IN_DEFICIENCIA_MENTAL', 'IN_DEFICIT_ATENCAO', 'IN_DISLEXIA', 'IN_GESTANTE', 'IN_LACTANTE', 'IN_IDOSO', 'IN_AUTISMO', 'IN_SABATISTA', 'IN_OUTRA_DEF']\n",
    "total_necesidades = 0\n",
    "for item in array:\n",
    "    try:\n",
    "        aux = df[item].value_counts().to_dict()\n",
    "        total_necesidades += aux[1]\n",
    "    except:\n",
    "        print('There is not elements on: ', item)\n",
    "print('total_necesidades: ', total_necesidades)\n",
    "\n",
    "aux = (total_necesidades * 100)/df.shape[0]\n",
    "print(aux)"
   ]
  },
  {
   "cell_type": "code",
   "execution_count": 56,
   "metadata": {},
   "outputs": [],
   "source": [
    "df_aux = pd.DataFrame([aux], columns = ['2012'])\n",
    "\n",
    "df_aux['2012_values'] = total_necesidades\n",
    "df_aux.head()\n",
    "\n",
    "export_csv = df_aux.to_csv (r'results_special_needs.csv', index = None, header=True)"
   ]
  },
  {
   "cell_type": "markdown",
   "metadata": {},
   "source": [
    "## Aluno por regiao"
   ]
  },
  {
   "cell_type": "code",
   "execution_count": 57,
   "metadata": {},
   "outputs": [
    {
     "data": {
      "text/plain": [
       "SP    314950\n",
       "MG    161649\n",
       "RJ    121056\n",
       "CE    105126\n",
       "PR     89004\n",
       "RS     77126\n",
       "BA     75414\n",
       "PE     65572\n",
       "PA     59299\n",
       "GO     50787\n",
       "SC     45284\n",
       "MA     43604\n",
       "ES     36964\n",
       "AM     33258\n",
       "MT     29814\n",
       "PI     29764\n",
       "PB     28673\n",
       "RN     26484\n",
       "DF     25614\n",
       "MS     24094\n",
       "AL     17717\n",
       "SE     17187\n",
       "RO     15989\n",
       "TO     12199\n",
       "AC      8850\n",
       "AP      6664\n",
       "RR      3739\n",
       "Name: UF_ESC, dtype: int64"
      ]
     },
     "execution_count": 57,
     "metadata": {},
     "output_type": "execute_result"
    }
   ],
   "source": [
    "array_kinds_regions = ['NU_NOTA_CN', 'NU_NOTA_CH', 'NU_NOTA_LC', 'NU_NOTA_MT']\n",
    "\n",
    "df['UF_ESC'].value_counts()"
   ]
  },
  {
   "cell_type": "code",
   "execution_count": 58,
   "metadata": {},
   "outputs": [
    {
     "name": "stdout",
     "output_type": "stream",
     "text": [
      "211414\n",
      "139998\n",
      "409541\n",
      "130309\n",
      "634619\n"
     ]
    }
   ],
   "source": [
    "df_SUL = df.loc[df['UF_ESC'].isin(['RS','SC','PR'])]\n",
    "df_NORTE = df.loc[df['UF_ESC'].isin(['AC','AP','AM', 'PA', 'RO', 'RR', 'TO'])]\n",
    "df_NORDESTE = df.loc[df['UF_ESC'].isin(['AL','BA','CE', 'MA', 'PB', 'PI', 'PE', 'RN', 'SE'])]\n",
    "df_CENTROOESTE = df.loc[df['UF_ESC'].isin(['DF','GO','MT', 'MS'])]\n",
    "df_SUDESTE = df.loc[df['UF_ESC'].isin(['ES','MG','RJ', 'SP'])]\n",
    "\n",
    "\n",
    "print(df_SUL.shape[0])\n",
    "print(df_NORTE.shape[0])\n",
    "print(df_NORDESTE.shape[0])\n",
    "print(df_CENTROOESTE.shape[0])\n",
    "print(df_SUDESTE.shape[0])\n"
   ]
  },
  {
   "cell_type": "code",
   "execution_count": 62,
   "metadata": {},
   "outputs": [
    {
     "name": "stdout",
     "output_type": "stream",
     "text": [
      "SUL:  13.855208892436567\n",
      "NORTE:  9.17489633857424\n",
      "NORDESTE:  26.83964214771663\n",
      "CENTROOESTE:  8.539918905864875\n",
      "SUDESTE:  41.59033371540769\n"
     ]
    }
   ],
   "source": [
    "total = df.shape[0]\n",
    "auxPercent = []\n",
    "auxValues = []\n",
    "auxSul =  (df_SUL.shape[0] * 100) / total\n",
    "print('SUL: ', auxSul)\n",
    "auxValues.append(df_SUL.shape[0])\n",
    "auxPercent.append(auxSul)\n",
    "\n",
    "auxNorte =  (df_NORTE.shape[0] * 100) / total\n",
    "print('NORTE: ', auxNorte)\n",
    "auxValues.append(df_NORTE.shape[0])\n",
    "auxPercent.append(auxNorte)\n",
    "\n",
    "auxNordeste =  (df_NORDESTE.shape[0] * 100) / total\n",
    "print('NORDESTE: ', auxNordeste)\n",
    "auxValues.append(df_NORDESTE.shape[0])\n",
    "auxPercent.append(auxNordeste)\n",
    "\n",
    "auxCentrooeste =  (df_CENTROOESTE.shape[0] * 100) / total\n",
    "print('CENTROOESTE: ', auxCentrooeste)\n",
    "auxValues.append(df_CENTROOESTE.shape[0])\n",
    "auxPercent.append(auxCentrooeste)\n",
    "\n",
    "auxSudeste =  (df_SUDESTE.shape[0] * 100) / total\n",
    "print('SUDESTE: ', auxSudeste)\n",
    "auxValues.append(df_SUDESTE.shape[0])\n",
    "auxPercent.append(auxSudeste)"
   ]
  },
  {
   "cell_type": "code",
   "execution_count": 66,
   "metadata": {},
   "outputs": [],
   "source": [
    "regions = ['SUL', 'NORTE', 'NORDESTE', 'CENTROOESTE', 'SUDESTE']\n",
    "df_aux = pd.DataFrame(regions, columns = ['Region'])\n",
    "\n",
    "df_aux['2012'] = auxPercent\n",
    "df_aux['2012_values'] = auxValues\n",
    "\n",
    "\n",
    "export_csv = df_aux.to_csv (r'results_for_region.csv', index = None, header=True)"
   ]
  },
  {
   "cell_type": "code",
   "execution_count": null,
   "metadata": {},
   "outputs": [],
   "source": []
  }
 ],
 "metadata": {
  "kernelspec": {
   "display_name": "Python 3",
   "language": "python",
   "name": "python3"
  },
  "language_info": {
   "codemirror_mode": {
    "name": "ipython",
    "version": 3
   },
   "file_extension": ".py",
   "mimetype": "text/x-python",
   "name": "python",
   "nbconvert_exporter": "python",
   "pygments_lexer": "ipython3",
   "version": "3.7.4"
  }
 },
 "nbformat": 4,
 "nbformat_minor": 2
}
