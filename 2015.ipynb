{
 "cells": [
  {
   "cell_type": "code",
   "execution_count": 1,
   "metadata": {},
   "outputs": [],
   "source": [
    "import pandas as pd"
   ]
  },
  {
   "cell_type": "code",
   "execution_count": 2,
   "metadata": {},
   "outputs": [],
   "source": [
    "import numpy as np"
   ]
  },
  {
   "cell_type": "code",
   "execution_count": 3,
   "metadata": {},
   "outputs": [],
   "source": [
    "df = pd.read_csv('MICRODADOS_ENEM_2015.csv', encoding='iso-8859-1', sep = ',')"
   ]
  },
  {
   "cell_type": "code",
   "execution_count": 4,
   "metadata": {},
   "outputs": [
    {
     "data": {
      "text/html": [
       "<div>\n",
       "<style scoped>\n",
       "    .dataframe tbody tr th:only-of-type {\n",
       "        vertical-align: middle;\n",
       "    }\n",
       "\n",
       "    .dataframe tbody tr th {\n",
       "        vertical-align: top;\n",
       "    }\n",
       "\n",
       "    .dataframe thead th {\n",
       "        text-align: right;\n",
       "    }\n",
       "</style>\n",
       "<table border=\"1\" class=\"dataframe\">\n",
       "  <thead>\n",
       "    <tr style=\"text-align: right;\">\n",
       "      <th></th>\n",
       "      <th>NU_INSCRICAO</th>\n",
       "      <th>NU_ANO</th>\n",
       "      <th>CO_MUNICIPIO_RESIDENCIA</th>\n",
       "      <th>NO_MUNICIPIO_RESIDENCIA</th>\n",
       "      <th>CO_UF_RESIDENCIA</th>\n",
       "      <th>SG_UF_RESIDENCIA</th>\n",
       "      <th>IN_ESTUDA_CLASSE_HOSPITALAR</th>\n",
       "      <th>IN_TREINEIRO</th>\n",
       "      <th>CO_ESCOLA</th>\n",
       "      <th>CO_MUNICIPIO_ESC</th>\n",
       "      <th>...</th>\n",
       "      <th>Q041</th>\n",
       "      <th>Q042</th>\n",
       "      <th>Q043</th>\n",
       "      <th>Q044</th>\n",
       "      <th>Q045</th>\n",
       "      <th>Q046</th>\n",
       "      <th>Q047</th>\n",
       "      <th>Q048</th>\n",
       "      <th>Q049</th>\n",
       "      <th>Q050</th>\n",
       "    </tr>\n",
       "  </thead>\n",
       "  <tbody>\n",
       "    <tr>\n",
       "      <td>0</td>\n",
       "      <td>150000000376</td>\n",
       "      <td>2015</td>\n",
       "      <td>4309209</td>\n",
       "      <td>Gravataí</td>\n",
       "      <td>43</td>\n",
       "      <td>RS</td>\n",
       "      <td>0</td>\n",
       "      <td>0</td>\n",
       "      <td>NaN</td>\n",
       "      <td>NaN</td>\n",
       "      <td>...</td>\n",
       "      <td>5.0</td>\n",
       "      <td>A</td>\n",
       "      <td>A</td>\n",
       "      <td>A</td>\n",
       "      <td>A</td>\n",
       "      <td>A</td>\n",
       "      <td>E</td>\n",
       "      <td>A</td>\n",
       "      <td>A</td>\n",
       "      <td>A</td>\n",
       "    </tr>\n",
       "    <tr>\n",
       "      <td>1</td>\n",
       "      <td>150000003053</td>\n",
       "      <td>2015</td>\n",
       "      <td>3143302</td>\n",
       "      <td>Montes Claros</td>\n",
       "      <td>31</td>\n",
       "      <td>MG</td>\n",
       "      <td>0</td>\n",
       "      <td>0</td>\n",
       "      <td>NaN</td>\n",
       "      <td>NaN</td>\n",
       "      <td>...</td>\n",
       "      <td>5.0</td>\n",
       "      <td>B</td>\n",
       "      <td>A</td>\n",
       "      <td>A</td>\n",
       "      <td>A</td>\n",
       "      <td>A</td>\n",
       "      <td>A</td>\n",
       "      <td>A</td>\n",
       "      <td>A</td>\n",
       "      <td>A</td>\n",
       "    </tr>\n",
       "    <tr>\n",
       "      <td>2</td>\n",
       "      <td>150000001161</td>\n",
       "      <td>2015</td>\n",
       "      <td>2609600</td>\n",
       "      <td>Olinda</td>\n",
       "      <td>26</td>\n",
       "      <td>PE</td>\n",
       "      <td>0</td>\n",
       "      <td>0</td>\n",
       "      <td>NaN</td>\n",
       "      <td>NaN</td>\n",
       "      <td>...</td>\n",
       "      <td>NaN</td>\n",
       "      <td>D</td>\n",
       "      <td>A</td>\n",
       "      <td>A</td>\n",
       "      <td>A</td>\n",
       "      <td>D</td>\n",
       "      <td>A</td>\n",
       "      <td>A</td>\n",
       "      <td>A</td>\n",
       "      <td>D</td>\n",
       "    </tr>\n",
       "    <tr>\n",
       "      <td>3</td>\n",
       "      <td>150000001335</td>\n",
       "      <td>2015</td>\n",
       "      <td>3106200</td>\n",
       "      <td>Belo Horizonte</td>\n",
       "      <td>31</td>\n",
       "      <td>MG</td>\n",
       "      <td>0</td>\n",
       "      <td>0</td>\n",
       "      <td>NaN</td>\n",
       "      <td>NaN</td>\n",
       "      <td>...</td>\n",
       "      <td>5.0</td>\n",
       "      <td>A</td>\n",
       "      <td>A</td>\n",
       "      <td>A</td>\n",
       "      <td>A</td>\n",
       "      <td>A</td>\n",
       "      <td>A</td>\n",
       "      <td>A</td>\n",
       "      <td>A</td>\n",
       "      <td>A</td>\n",
       "    </tr>\n",
       "    <tr>\n",
       "      <td>4</td>\n",
       "      <td>150000001219</td>\n",
       "      <td>2015</td>\n",
       "      <td>3168606</td>\n",
       "      <td>Teófilo Otoni</td>\n",
       "      <td>31</td>\n",
       "      <td>MG</td>\n",
       "      <td>0</td>\n",
       "      <td>0</td>\n",
       "      <td>NaN</td>\n",
       "      <td>NaN</td>\n",
       "      <td>...</td>\n",
       "      <td>NaN</td>\n",
       "      <td>A</td>\n",
       "      <td>A</td>\n",
       "      <td>A</td>\n",
       "      <td>A</td>\n",
       "      <td>A</td>\n",
       "      <td>A</td>\n",
       "      <td>A</td>\n",
       "      <td>A</td>\n",
       "      <td>A</td>\n",
       "    </tr>\n",
       "  </tbody>\n",
       "</table>\n",
       "<p>5 rows × 166 columns</p>\n",
       "</div>"
      ],
      "text/plain": [
       "   NU_INSCRICAO  NU_ANO  CO_MUNICIPIO_RESIDENCIA NO_MUNICIPIO_RESIDENCIA  \\\n",
       "0  150000000376    2015                  4309209                Gravataí   \n",
       "1  150000003053    2015                  3143302           Montes Claros   \n",
       "2  150000001161    2015                  2609600                  Olinda   \n",
       "3  150000001335    2015                  3106200          Belo Horizonte   \n",
       "4  150000001219    2015                  3168606           Teófilo Otoni   \n",
       "\n",
       "   CO_UF_RESIDENCIA SG_UF_RESIDENCIA  IN_ESTUDA_CLASSE_HOSPITALAR  \\\n",
       "0                43               RS                            0   \n",
       "1                31               MG                            0   \n",
       "2                26               PE                            0   \n",
       "3                31               MG                            0   \n",
       "4                31               MG                            0   \n",
       "\n",
       "   IN_TREINEIRO  CO_ESCOLA  CO_MUNICIPIO_ESC  ... Q041  Q042 Q043  Q044  Q045  \\\n",
       "0             0        NaN               NaN  ...  5.0     A    A     A     A   \n",
       "1             0        NaN               NaN  ...  5.0     B    A     A     A   \n",
       "2             0        NaN               NaN  ...  NaN     D    A     A     A   \n",
       "3             0        NaN               NaN  ...  5.0     A    A     A     A   \n",
       "4             0        NaN               NaN  ...  NaN     A    A     A     A   \n",
       "\n",
       "   Q046  Q047 Q048  Q049  Q050  \n",
       "0     A     E    A     A     A  \n",
       "1     A     A    A     A     A  \n",
       "2     D     A    A     A     D  \n",
       "3     A     A    A     A     A  \n",
       "4     A     A    A     A     A  \n",
       "\n",
       "[5 rows x 166 columns]"
      ]
     },
     "execution_count": 4,
     "metadata": {},
     "output_type": "execute_result"
    }
   ],
   "source": [
    "df.head()"
   ]
  },
  {
   "cell_type": "code",
   "execution_count": 5,
   "metadata": {},
   "outputs": [],
   "source": [
    "totalGlobal = df.shape[0]"
   ]
  },
  {
   "cell_type": "code",
   "execution_count": 6,
   "metadata": {},
   "outputs": [],
   "source": [
    "df = df[np.isfinite(df['TP_DEPENDENCIA_ADM_ESC'])]"
   ]
  },
  {
   "cell_type": "code",
   "execution_count": 7,
   "metadata": {},
   "outputs": [
    {
     "data": {
      "text/plain": [
       "(1649258, 166)"
      ]
     },
     "execution_count": 7,
     "metadata": {},
     "output_type": "execute_result"
    }
   ],
   "source": [
    "df.shape"
   ]
  },
  {
   "cell_type": "markdown",
   "metadata": {},
   "source": [
    "## Values NaN"
   ]
  },
  {
   "cell_type": "code",
   "execution_count": 8,
   "metadata": {},
   "outputs": [
    {
     "name": "stdout",
     "output_type": "stream",
     "text": [
      "TP_SIT_FUNC_ESC => 1763\n",
      "NU_IDADE => 30\n",
      "CO_MUNICIPIO_NASCIMENTO => 76511\n",
      "NO_MUNICIPIO_NASCIMENTO => 76511\n",
      "CO_UF_NASCIMENTO => 76511\n",
      "SG_UF_NASCIMENTO => 76511\n",
      "TP_ENSINO => 29\n",
      "TP_ESTADO_CIVIL => 31173\n",
      "NO_ENTIDADE_CERTIFICACAO => 1391445\n",
      "CO_UF_ENTIDADE_CERTIFICACAO => 1391445\n",
      "SG_UF_ENTIDADE_CERTIFICACAO => 1391445\n",
      "TP_PRESENCA_CN => 29\n",
      "TP_PRESENCA_CH => 29\n",
      "TP_PRESENCA_LC => 28\n",
      "TP_PRESENCA_MT => 28\n",
      "CO_PROVA_CN => 204393\n",
      "CO_PROVA_CH => 204393\n",
      "CO_PROVA_LC => 222808\n",
      "CO_PROVA_MT => 222808\n",
      "NU_NOTA_CN => 204393\n",
      "NU_NOTA_CH => 204393\n",
      "NU_NOTA_LC => 222808\n",
      "NU_NOTA_MT => 222808\n",
      "TX_RESPOSTAS_CN => 204393\n",
      "TX_RESPOSTAS_CH => 204393\n",
      "TX_RESPOSTAS_LC => 222808\n",
      "TX_RESPOSTAS_MT => 222808\n",
      "TX_GABARITO_CN => 204393\n",
      "TX_GABARITO_CH => 204393\n",
      "TX_GABARITO_LC => 222808\n",
      "TX_GABARITO_MT => 222808\n",
      "TP_STATUS_REDACAO => 28\n",
      "NU_NOTA_COMP1 => 362\n",
      "NU_NOTA_COMP2 => 362\n",
      "NU_NOTA_COMP3 => 362\n",
      "NU_NOTA_COMP4 => 362\n",
      "NU_NOTA_COMP5 => 362\n",
      "NU_NOTA_REDACAO => 362\n",
      "Q001 => 202\n",
      "Q002 => 203\n",
      "Q003 => 203\n",
      "Q004 => 203\n",
      "Q005 => 204\n",
      "Q006 => 204\n",
      "Q007 => 206\n",
      "Q008 => 207\n",
      "Q009 => 207\n",
      "Q010 => 210\n",
      "Q011 => 211\n",
      "Q012 => 214\n",
      "Q013 => 217\n",
      "Q014 => 217\n",
      "Q015 => 218\n",
      "Q016 => 219\n",
      "Q017 => 220\n",
      "Q018 => 221\n",
      "Q019 => 221\n",
      "Q020 => 222\n",
      "Q021 => 222\n",
      "Q022 => 222\n",
      "Q023 => 222\n",
      "Q024 => 223\n",
      "Q025 => 223\n",
      "Q026 => 223\n",
      "Q027 => 1059260\n",
      "Q028 => 1059260\n",
      "Q029 => 1059260\n",
      "Q030 => 1059260\n",
      "Q031 => 1059260\n",
      "Q032 => 1059260\n",
      "Q033 => 1059260\n",
      "Q034 => 223\n",
      "Q035 => 223\n",
      "Q036 => 223\n",
      "Q037 => 223\n",
      "Q038 => 223\n",
      "Q039 => 223\n",
      "Q040 => 223\n",
      "Q041 => 1332420\n",
      "Q042 => 224\n",
      "Q043 => 224\n",
      "Q044 => 225\n",
      "Q045 => 225\n",
      "Q046 => 225\n",
      "Q047 => 225\n",
      "Q048 => 225\n",
      "Q049 => 226\n",
      "Q050 => 226\n",
      "schools_without_null:  1649258\n"
     ]
    }
   ],
   "source": [
    "nullvalues = (df.isnull().sum())\n",
    "total_size = df.shape[0]\n",
    "schools_without_null = 0\n",
    "columns = list(df)\n",
    "for idx, col in enumerate(columns):\n",
    "    if col == 'TP_DEPENDENCIA_ADM_ESC':\n",
    "        schools_without_null = total_size - nullvalues[idx]\n",
    "    if nullvalues[idx] > 0:\n",
    "        print(col + ' => '+str(nullvalues[idx]))\n",
    "print('schools_without_null: ', schools_without_null)"
   ]
  },
  {
   "cell_type": "markdown",
   "metadata": {},
   "source": [
    "## Porcentage of available data"
   ]
  },
  {
   "cell_type": "code",
   "execution_count": 9,
   "metadata": {},
   "outputs": [
    {
     "name": "stdout",
     "output_type": "stream",
     "text": [
      "21.29056402390418\n"
     ]
    }
   ],
   "source": [
    "# total = df.shape[0]\n",
    "\n",
    "porcentage = (schools_without_null * 100) / totalGlobal\n",
    "print(porcentage)"
   ]
  },
  {
   "cell_type": "code",
   "execution_count": 10,
   "metadata": {},
   "outputs": [
    {
     "data": {
      "text/plain": [
       "(1649258, 166)"
      ]
     },
     "execution_count": 10,
     "metadata": {},
     "output_type": "execute_result"
    }
   ],
   "source": [
    "df.shape"
   ]
  },
  {
   "cell_type": "markdown",
   "metadata": {},
   "source": [
    "## Tipo de Escola"
   ]
  },
  {
   "cell_type": "code",
   "execution_count": 11,
   "metadata": {},
   "outputs": [
    {
     "data": {
      "text/plain": [
       "2.0    1293573\n",
       "3.0      17129\n",
       "4.0     304364\n",
       "1.0      34192\n",
       "Name: TP_DEPENDENCIA_ADM_ESC, dtype: int64"
      ]
     },
     "execution_count": 11,
     "metadata": {},
     "output_type": "execute_result"
    }
   ],
   "source": [
    "df['TP_DEPENDENCIA_ADM_ESC'].value_counts(sort = False)"
   ]
  },
  {
   "cell_type": "code",
   "execution_count": 13,
   "metadata": {},
   "outputs": [
    {
     "name": "stdout",
     "output_type": "stream",
     "text": [
      "2.0 78.43363500434741\n",
      "3.0 1.0385882621154483\n",
      "4.0 18.454602008903397\n",
      "1.0 2.0731747246337444\n",
      "**************************************************\n",
      "1.0 2.0731747246337444 34192\n",
      "2.0 78.43363500434741 1293573\n",
      "3.0 1.0385882621154483 17129\n",
      "4.0 18.454602008903397 304364\n"
     ]
    }
   ],
   "source": [
    "a = df['TP_DEPENDENCIA_ADM_ESC'].value_counts(sort = False).to_dict()\n",
    "\n",
    "for idx, value in a.items():\n",
    "    x = (value * 100) / schools_without_null\n",
    "    print(idx, x)\n",
    "\n",
    "print('*'*50)\n",
    "\n",
    "values_percent_to_save = []\n",
    "values_to_save = []\n",
    "for idx, value in sorted(a.items()):\n",
    "    x = (value * 100) / schools_without_null\n",
    "    values_percent_to_save.append(x)\n",
    "    values_to_save.append(value)\n",
    "    print(idx, x, value)"
   ]
  },
  {
   "cell_type": "code",
   "execution_count": 14,
   "metadata": {},
   "outputs": [
    {
     "data": {
      "text/html": [
       "<div>\n",
       "<style scoped>\n",
       "    .dataframe tbody tr th:only-of-type {\n",
       "        vertical-align: middle;\n",
       "    }\n",
       "\n",
       "    .dataframe tbody tr th {\n",
       "        vertical-align: top;\n",
       "    }\n",
       "\n",
       "    .dataframe thead th {\n",
       "        text-align: right;\n",
       "    }\n",
       "</style>\n",
       "<table border=\"1\" class=\"dataframe\">\n",
       "  <thead>\n",
       "    <tr style=\"text-align: right;\">\n",
       "      <th></th>\n",
       "      <th>2012</th>\n",
       "      <th>2012_values</th>\n",
       "      <th>2013</th>\n",
       "      <th>2013_values</th>\n",
       "      <th>2014</th>\n",
       "      <th>2014_values</th>\n",
       "      <th>2015</th>\n",
       "      <th>2015_values</th>\n",
       "    </tr>\n",
       "  </thead>\n",
       "  <tbody>\n",
       "    <tr>\n",
       "      <td>0</td>\n",
       "      <td>1.720580</td>\n",
       "      <td>26254</td>\n",
       "      <td>1.796744</td>\n",
       "      <td>29392</td>\n",
       "      <td>1.834787</td>\n",
       "      <td>32262</td>\n",
       "      <td>2.073175</td>\n",
       "      <td>34192</td>\n",
       "    </tr>\n",
       "    <tr>\n",
       "      <td>1</td>\n",
       "      <td>77.525049</td>\n",
       "      <td>1182940</td>\n",
       "      <td>77.938965</td>\n",
       "      <td>1274963</td>\n",
       "      <td>75.430275</td>\n",
       "      <td>1326329</td>\n",
       "      <td>78.433635</td>\n",
       "      <td>1293573</td>\n",
       "    </tr>\n",
       "    <tr>\n",
       "      <td>2</td>\n",
       "      <td>1.185938</td>\n",
       "      <td>18096</td>\n",
       "      <td>1.150657</td>\n",
       "      <td>18823</td>\n",
       "      <td>1.046833</td>\n",
       "      <td>18407</td>\n",
       "      <td>1.038588</td>\n",
       "      <td>17129</td>\n",
       "    </tr>\n",
       "    <tr>\n",
       "      <td>3</td>\n",
       "      <td>19.568433</td>\n",
       "      <td>298591</td>\n",
       "      <td>19.113634</td>\n",
       "      <td>312670</td>\n",
       "      <td>21.688104</td>\n",
       "      <td>381353</td>\n",
       "      <td>18.454602</td>\n",
       "      <td>304364</td>\n",
       "    </tr>\n",
       "  </tbody>\n",
       "</table>\n",
       "</div>"
      ],
      "text/plain": [
       "        2012  2012_values       2013  2013_values       2014  2014_values  \\\n",
       "0   1.720580        26254   1.796744        29392   1.834787        32262   \n",
       "1  77.525049      1182940  77.938965      1274963  75.430275      1326329   \n",
       "2   1.185938        18096   1.150657        18823   1.046833        18407   \n",
       "3  19.568433       298591  19.113634       312670  21.688104       381353   \n",
       "\n",
       "        2015  2015_values  \n",
       "0   2.073175        34192  \n",
       "1  78.433635      1293573  \n",
       "2   1.038588        17129  \n",
       "3  18.454602       304364  "
      ]
     },
     "execution_count": 14,
     "metadata": {},
     "output_type": "execute_result"
    }
   ],
   "source": [
    "csv_input = pd.read_csv('results_for_school.csv')\n",
    "csv_input['2015'] = values_percent_to_save\n",
    "csv_input['2015_values'] = values_to_save\n",
    "csv_input.head()"
   ]
  },
  {
   "cell_type": "code",
   "execution_count": 15,
   "metadata": {},
   "outputs": [],
   "source": [
    "export_csv = csv_input.to_csv (r'results_for_school.csv', index = None, header=True)"
   ]
  },
  {
   "cell_type": "markdown",
   "metadata": {},
   "source": [
    "## Alumno con necesidades especiales"
   ]
  },
  {
   "cell_type": "code",
   "execution_count": 16,
   "metadata": {},
   "outputs": [
    {
     "data": {
      "text/plain": [
       "(1649258, 166)"
      ]
     },
     "execution_count": 16,
     "metadata": {},
     "output_type": "execute_result"
    }
   ],
   "source": [
    "df.shape"
   ]
  },
  {
   "cell_type": "code",
   "execution_count": 17,
   "metadata": {},
   "outputs": [
    {
     "name": "stdout",
     "output_type": "stream",
     "text": [
      "total_necesidades:  24035\n",
      "1.4573220199629167\n"
     ]
    }
   ],
   "source": [
    "array = ['IN_BAIXA_VISAO', 'IN_CEGUEIRA', 'IN_SURDEZ', 'IN_DEFICIENCIA_AUDITIVA', 'IN_SURDO_CEGUEIRA', 'IN_DEFICIENCIA_FISICA', 'IN_DEFICIENCIA_MENTAL', 'IN_DEFICIT_ATENCAO', 'IN_DISLEXIA', 'IN_GESTANTE', 'IN_LACTANTE', 'IN_IDOSO', 'IN_DISCALCULIA', 'IN_AUTISMO', 'IN_VISAO_MONOCULAR', 'IN_SABATISTA', 'IN_OUTRA_DEF']\n",
    "total_necesidades = 0\n",
    "for item in array:\n",
    "    try:\n",
    "        aux = df[item].value_counts().to_dict()\n",
    "        total_necesidades += aux[1]\n",
    "    except:\n",
    "        print('There is not elements on: ', item)\n",
    "print('total_necesidades: ', total_necesidades)\n",
    "\n",
    "aux = (total_necesidades * 100)/df.shape[0]\n",
    "print(aux)"
   ]
  },
  {
   "cell_type": "code",
   "execution_count": 18,
   "metadata": {},
   "outputs": [
    {
     "data": {
      "text/html": [
       "<div>\n",
       "<style scoped>\n",
       "    .dataframe tbody tr th:only-of-type {\n",
       "        vertical-align: middle;\n",
       "    }\n",
       "\n",
       "    .dataframe tbody tr th {\n",
       "        vertical-align: top;\n",
       "    }\n",
       "\n",
       "    .dataframe thead th {\n",
       "        text-align: right;\n",
       "    }\n",
       "</style>\n",
       "<table border=\"1\" class=\"dataframe\">\n",
       "  <thead>\n",
       "    <tr style=\"text-align: right;\">\n",
       "      <th></th>\n",
       "      <th>2012</th>\n",
       "      <th>2012_values</th>\n",
       "      <th>2013</th>\n",
       "      <th>2013_values</th>\n",
       "      <th>2015</th>\n",
       "      <th>2015_values</th>\n",
       "    </tr>\n",
       "  </thead>\n",
       "  <tbody>\n",
       "    <tr>\n",
       "      <td>0</td>\n",
       "      <td>1.275001</td>\n",
       "      <td>19455</td>\n",
       "      <td>1.766546</td>\n",
       "      <td>28898</td>\n",
       "      <td>1.457322</td>\n",
       "      <td>24035</td>\n",
       "    </tr>\n",
       "  </tbody>\n",
       "</table>\n",
       "</div>"
      ],
      "text/plain": [
       "       2012  2012_values      2013  2013_values      2015  2015_values\n",
       "0  1.275001        19455  1.766546        28898  1.457322        24035"
      ]
     },
     "execution_count": 18,
     "metadata": {},
     "output_type": "execute_result"
    }
   ],
   "source": [
    "csv_input = pd.read_csv('results_special_needs.csv')\n",
    "csv_input['2015'] = aux\n",
    "csv_input['2015_values'] = total_necesidades\n",
    "csv_input.head()"
   ]
  },
  {
   "cell_type": "code",
   "execution_count": 1,
   "metadata": {},
   "outputs": [
    {
     "ename": "NameError",
     "evalue": "name 'csv_input' is not defined",
     "output_type": "error",
     "traceback": [
      "\u001b[0;31m---------------------------------------------------------------------------\u001b[0m",
      "\u001b[0;31mNameError\u001b[0m                                 Traceback (most recent call last)",
      "\u001b[0;32m<ipython-input-1-ad45930c10aa>\u001b[0m in \u001b[0;36m<module>\u001b[0;34m\u001b[0m\n\u001b[0;32m----> 1\u001b[0;31m \u001b[0mexport_csv\u001b[0m \u001b[0;34m=\u001b[0m \u001b[0mcsv_input\u001b[0m\u001b[0;34m.\u001b[0m\u001b[0mto_csv\u001b[0m \u001b[0;34m(\u001b[0m\u001b[0;34mr'results_special_needs.csv'\u001b[0m\u001b[0;34m,\u001b[0m \u001b[0mindex\u001b[0m \u001b[0;34m=\u001b[0m \u001b[0;32mNone\u001b[0m\u001b[0;34m,\u001b[0m \u001b[0mheader\u001b[0m\u001b[0;34m=\u001b[0m\u001b[0;32mTrue\u001b[0m\u001b[0;34m)\u001b[0m\u001b[0;34m\u001b[0m\u001b[0;34m\u001b[0m\u001b[0m\n\u001b[0m",
      "\u001b[0;31mNameError\u001b[0m: name 'csv_input' is not defined"
     ]
    }
   ],
   "source": [
    "export_csv = csv_input.to_csv (r'results_special_needs.csv', index = None, header=True)"
   ]
  },
  {
   "cell_type": "markdown",
   "metadata": {},
   "source": [
    "## Aluno por regiao"
   ]
  },
  {
   "cell_type": "code",
   "execution_count": 19,
   "metadata": {},
   "outputs": [
    {
     "data": {
      "text/plain": [
       "SP    358496\n",
       "MG    158814\n",
       "RJ    133135\n",
       "CE    118295\n",
       "BA     90675\n",
       "RS     83077\n",
       "PR     79468\n",
       "PE     74127\n",
       "PA     58298\n",
       "GO     57990\n",
       "SC     54656\n",
       "MA     46796\n",
       "ES     38356\n",
       "AM     34374\n",
       "DF     33046\n",
       "PB     30971\n",
       "PI     29420\n",
       "MT     29152\n",
       "RN     25316\n",
       "MS     22728\n",
       "AL     22378\n",
       "RO     16732\n",
       "SE     15333\n",
       "TO     14549\n",
       "AP      9212\n",
       "AC      8990\n",
       "RR      4874\n",
       "Name: SG_UF_ESC, dtype: int64"
      ]
     },
     "execution_count": 19,
     "metadata": {},
     "output_type": "execute_result"
    }
   ],
   "source": [
    "array_kinds_regions = ['NU_NOTA_CN', 'NU_NOTA_CH', 'NU_NOTA_LC', 'NU_NOTA_MT']\n",
    "\n",
    "df['SG_UF_ESC'].value_counts()"
   ]
  },
  {
   "cell_type": "code",
   "execution_count": 20,
   "metadata": {},
   "outputs": [
    {
     "name": "stdout",
     "output_type": "stream",
     "text": [
      "217201\n",
      "147029\n",
      "453311\n",
      "142916\n",
      "688801\n"
     ]
    }
   ],
   "source": [
    "df_SUL = df.loc[df['SG_UF_ESC'].isin(['RS','SC','PR'])]\n",
    "df_NORTE = df.loc[df['SG_UF_ESC'].isin(['AC','AP','AM', 'PA', 'RO', 'RR', 'TO'])]\n",
    "df_NORDESTE = df.loc[df['SG_UF_ESC'].isin(['AL','BA','CE', 'MA', 'PB', 'PI', 'PE', 'RN', 'SE'])]\n",
    "df_CENTROOESTE = df.loc[df['SG_UF_ESC'].isin(['DF','GO','MT', 'MS'])]\n",
    "df_SUDESTE = df.loc[df['SG_UF_ESC'].isin(['ES','MG','RJ', 'SP'])]\n",
    "\n",
    "\n",
    "print(df_SUL.shape[0])\n",
    "print(df_NORTE.shape[0])\n",
    "print(df_NORDESTE.shape[0])\n",
    "print(df_CENTROOESTE.shape[0])\n",
    "print(df_SUDESTE.shape[0])\n"
   ]
  },
  {
   "cell_type": "code",
   "execution_count": 23,
   "metadata": {},
   "outputs": [
    {
     "name": "stdout",
     "output_type": "stream",
     "text": [
      "SUL:  13.169619307591656\n",
      "NORTE:  8.914857469237681\n",
      "NORDESTE:  27.48575419976741\n",
      "CENTROOESTE:  8.665472594342425\n",
      "SUDESTE:  41.76429642906083\n"
     ]
    }
   ],
   "source": [
    "total = df.shape[0]\n",
    "auxPercent = []\n",
    "auxValues = []\n",
    "auxSul =  (df_SUL.shape[0] * 100) / total\n",
    "print('SUL: ', auxSul)\n",
    "auxValues.append(df_SUL.shape[0])\n",
    "auxPercent.append(auxSul)\n",
    "\n",
    "auxNorte =  (df_NORTE.shape[0] * 100) / total\n",
    "print('NORTE: ', auxNorte)\n",
    "auxValues.append(df_NORTE.shape[0])\n",
    "auxPercent.append(auxNorte)\n",
    "\n",
    "auxNordeste =  (df_NORDESTE.shape[0] * 100) / total\n",
    "print('NORDESTE: ', auxNordeste)\n",
    "auxValues.append(df_NORDESTE.shape[0])\n",
    "auxPercent.append(auxNordeste)\n",
    "\n",
    "auxCentrooeste =  (df_CENTROOESTE.shape[0] * 100) / total\n",
    "print('CENTROOESTE: ', auxCentrooeste)\n",
    "auxValues.append(df_CENTROOESTE.shape[0])\n",
    "auxPercent.append(auxCentrooeste)\n",
    "\n",
    "auxSudeste =  (df_SUDESTE.shape[0] * 100) / total\n",
    "print('SUDESTE: ', auxSudeste)\n",
    "auxValues.append(df_SUDESTE.shape[0])\n",
    "auxPercent.append(auxSudeste)"
   ]
  },
  {
   "cell_type": "code",
   "execution_count": 24,
   "metadata": {},
   "outputs": [
    {
     "data": {
      "text/html": [
       "<div>\n",
       "<style scoped>\n",
       "    .dataframe tbody tr th:only-of-type {\n",
       "        vertical-align: middle;\n",
       "    }\n",
       "\n",
       "    .dataframe tbody tr th {\n",
       "        vertical-align: top;\n",
       "    }\n",
       "\n",
       "    .dataframe thead th {\n",
       "        text-align: right;\n",
       "    }\n",
       "</style>\n",
       "<table border=\"1\" class=\"dataframe\">\n",
       "  <thead>\n",
       "    <tr style=\"text-align: right;\">\n",
       "      <th></th>\n",
       "      <th>Region</th>\n",
       "      <th>2012</th>\n",
       "      <th>2012_values</th>\n",
       "      <th>2013</th>\n",
       "      <th>2013_values</th>\n",
       "      <th>2014</th>\n",
       "      <th>2014_values</th>\n",
       "      <th>2015</th>\n",
       "      <th>2015_values</th>\n",
       "    </tr>\n",
       "  </thead>\n",
       "  <tbody>\n",
       "    <tr>\n",
       "      <td>0</td>\n",
       "      <td>SUL</td>\n",
       "      <td>13.855209</td>\n",
       "      <td>211414</td>\n",
       "      <td>13.893711</td>\n",
       "      <td>227280</td>\n",
       "      <td>13.415808</td>\n",
       "      <td>235897</td>\n",
       "      <td>13.169619</td>\n",
       "      <td>217201</td>\n",
       "    </tr>\n",
       "    <tr>\n",
       "      <td>1</td>\n",
       "      <td>NORTE</td>\n",
       "      <td>9.174896</td>\n",
       "      <td>139998</td>\n",
       "      <td>9.219622</td>\n",
       "      <td>150819</td>\n",
       "      <td>9.028175</td>\n",
       "      <td>158747</td>\n",
       "      <td>8.914857</td>\n",
       "      <td>147029</td>\n",
       "    </tr>\n",
       "    <tr>\n",
       "      <td>2</td>\n",
       "      <td>NORDESTE</td>\n",
       "      <td>26.839642</td>\n",
       "      <td>409541</td>\n",
       "      <td>27.493202</td>\n",
       "      <td>449747</td>\n",
       "      <td>26.701836</td>\n",
       "      <td>469512</td>\n",
       "      <td>27.485754</td>\n",
       "      <td>453311</td>\n",
       "    </tr>\n",
       "    <tr>\n",
       "      <td>3</td>\n",
       "      <td>CENTROOESTE</td>\n",
       "      <td>8.539919</td>\n",
       "      <td>130309</td>\n",
       "      <td>8.366548</td>\n",
       "      <td>136864</td>\n",
       "      <td>11.502595</td>\n",
       "      <td>202256</td>\n",
       "      <td>8.665473</td>\n",
       "      <td>142916</td>\n",
       "    </tr>\n",
       "    <tr>\n",
       "      <td>4</td>\n",
       "      <td>SUDESTE</td>\n",
       "      <td>41.590334</td>\n",
       "      <td>634619</td>\n",
       "      <td>41.026917</td>\n",
       "      <td>671138</td>\n",
       "      <td>39.351586</td>\n",
       "      <td>691939</td>\n",
       "      <td>41.764296</td>\n",
       "      <td>688801</td>\n",
       "    </tr>\n",
       "  </tbody>\n",
       "</table>\n",
       "</div>"
      ],
      "text/plain": [
       "        Region       2012  2012_values       2013  2013_values       2014  \\\n",
       "0          SUL  13.855209       211414  13.893711       227280  13.415808   \n",
       "1        NORTE   9.174896       139998   9.219622       150819   9.028175   \n",
       "2     NORDESTE  26.839642       409541  27.493202       449747  26.701836   \n",
       "3  CENTROOESTE   8.539919       130309   8.366548       136864  11.502595   \n",
       "4      SUDESTE  41.590334       634619  41.026917       671138  39.351586   \n",
       "\n",
       "   2014_values       2015  2015_values  \n",
       "0       235897  13.169619       217201  \n",
       "1       158747   8.914857       147029  \n",
       "2       469512  27.485754       453311  \n",
       "3       202256   8.665473       142916  \n",
       "4       691939  41.764296       688801  "
      ]
     },
     "execution_count": 24,
     "metadata": {},
     "output_type": "execute_result"
    }
   ],
   "source": [
    "csv_input = pd.read_csv('results_for_region.csv')\n",
    "csv_input['2015'] = auxPercent\n",
    "csv_input['2015_values'] = auxValues\n",
    "csv_input.head()"
   ]
  },
  {
   "cell_type": "code",
   "execution_count": 25,
   "metadata": {},
   "outputs": [],
   "source": [
    "export_csv = csv_input.to_csv (r'results_for_region.csv', index = None, header=True)"
   ]
  }
 ],
 "metadata": {
  "kernelspec": {
   "display_name": "Python 3",
   "language": "python",
   "name": "python3"
  },
  "language_info": {
   "codemirror_mode": {
    "name": "ipython",
    "version": 3
   },
   "file_extension": ".py",
   "mimetype": "text/x-python",
   "name": "python",
   "nbconvert_exporter": "python",
   "pygments_lexer": "ipython3",
   "version": "3.7.4"
  }
 },
 "nbformat": 4,
 "nbformat_minor": 2
}
