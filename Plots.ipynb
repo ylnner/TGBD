{
 "cells": [
  {
   "cell_type": "code",
   "execution_count": 11,
   "metadata": {},
   "outputs": [],
   "source": [
    "import seaborn as sns\n",
    "import pandas as pd\n",
    "import matplotlib.pyplot as plt"
   ]
  },
  {
   "cell_type": "markdown",
   "metadata": {},
   "source": [
    "## Plot for region"
   ]
  },
  {
   "cell_type": "code",
   "execution_count": 4,
   "metadata": {},
   "outputs": [
    {
     "data": {
      "text/html": [
       "<div>\n",
       "<style scoped>\n",
       "    .dataframe tbody tr th:only-of-type {\n",
       "        vertical-align: middle;\n",
       "    }\n",
       "\n",
       "    .dataframe tbody tr th {\n",
       "        vertical-align: top;\n",
       "    }\n",
       "\n",
       "    .dataframe thead th {\n",
       "        text-align: right;\n",
       "    }\n",
       "</style>\n",
       "<table border=\"1\" class=\"dataframe\">\n",
       "  <thead>\n",
       "    <tr style=\"text-align: right;\">\n",
       "      <th></th>\n",
       "      <th>Region</th>\n",
       "      <th>2012</th>\n",
       "      <th>2012_values</th>\n",
       "      <th>2013</th>\n",
       "      <th>2013_values</th>\n",
       "      <th>2014</th>\n",
       "      <th>2014_values</th>\n",
       "      <th>2015</th>\n",
       "      <th>2015_values</th>\n",
       "      <th>2016</th>\n",
       "      <th>2016_values</th>\n",
       "      <th>2017</th>\n",
       "      <th>2017_values</th>\n",
       "    </tr>\n",
       "  </thead>\n",
       "  <tbody>\n",
       "    <tr>\n",
       "      <td>0</td>\n",
       "      <td>SUL</td>\n",
       "      <td>13.855209</td>\n",
       "      <td>211414</td>\n",
       "      <td>13.893711</td>\n",
       "      <td>227280</td>\n",
       "      <td>13.415808</td>\n",
       "      <td>235897</td>\n",
       "      <td>13.169619</td>\n",
       "      <td>217201</td>\n",
       "      <td>13.859751</td>\n",
       "      <td>260741</td>\n",
       "      <td>12.074322</td>\n",
       "      <td>215637</td>\n",
       "    </tr>\n",
       "    <tr>\n",
       "      <td>1</td>\n",
       "      <td>NORTE</td>\n",
       "      <td>9.174896</td>\n",
       "      <td>139998</td>\n",
       "      <td>9.219622</td>\n",
       "      <td>150819</td>\n",
       "      <td>9.028175</td>\n",
       "      <td>158747</td>\n",
       "      <td>8.914857</td>\n",
       "      <td>147029</td>\n",
       "      <td>9.688978</td>\n",
       "      <td>182277</td>\n",
       "      <td>10.189180</td>\n",
       "      <td>181970</td>\n",
       "    </tr>\n",
       "    <tr>\n",
       "      <td>2</td>\n",
       "      <td>NORDESTE</td>\n",
       "      <td>26.839642</td>\n",
       "      <td>409541</td>\n",
       "      <td>27.493202</td>\n",
       "      <td>449747</td>\n",
       "      <td>26.701836</td>\n",
       "      <td>469512</td>\n",
       "      <td>27.485754</td>\n",
       "      <td>453311</td>\n",
       "      <td>27.659862</td>\n",
       "      <td>520360</td>\n",
       "      <td>28.442691</td>\n",
       "      <td>507962</td>\n",
       "    </tr>\n",
       "    <tr>\n",
       "      <td>3</td>\n",
       "      <td>CENTROOESTE</td>\n",
       "      <td>8.539919</td>\n",
       "      <td>130309</td>\n",
       "      <td>8.366548</td>\n",
       "      <td>136864</td>\n",
       "      <td>11.502595</td>\n",
       "      <td>202256</td>\n",
       "      <td>8.665473</td>\n",
       "      <td>142916</td>\n",
       "      <td>8.453597</td>\n",
       "      <td>159036</td>\n",
       "      <td>8.265236</td>\n",
       "      <td>147610</td>\n",
       "    </tr>\n",
       "    <tr>\n",
       "      <td>4</td>\n",
       "      <td>SUDESTE</td>\n",
       "      <td>41.590334</td>\n",
       "      <td>634619</td>\n",
       "      <td>41.026917</td>\n",
       "      <td>671138</td>\n",
       "      <td>39.351586</td>\n",
       "      <td>691939</td>\n",
       "      <td>41.764296</td>\n",
       "      <td>688801</td>\n",
       "      <td>40.337812</td>\n",
       "      <td>758868</td>\n",
       "      <td>41.028571</td>\n",
       "      <td>732735</td>\n",
       "    </tr>\n",
       "  </tbody>\n",
       "</table>\n",
       "</div>"
      ],
      "text/plain": [
       "        Region       2012  2012_values       2013  2013_values       2014  \\\n",
       "0          SUL  13.855209       211414  13.893711       227280  13.415808   \n",
       "1        NORTE   9.174896       139998   9.219622       150819   9.028175   \n",
       "2     NORDESTE  26.839642       409541  27.493202       449747  26.701836   \n",
       "3  CENTROOESTE   8.539919       130309   8.366548       136864  11.502595   \n",
       "4      SUDESTE  41.590334       634619  41.026917       671138  39.351586   \n",
       "\n",
       "   2014_values       2015  2015_values       2016  2016_values       2017  \\\n",
       "0       235897  13.169619       217201  13.859751       260741  12.074322   \n",
       "1       158747   8.914857       147029   9.688978       182277  10.189180   \n",
       "2       469512  27.485754       453311  27.659862       520360  28.442691   \n",
       "3       202256   8.665473       142916   8.453597       159036   8.265236   \n",
       "4       691939  41.764296       688801  40.337812       758868  41.028571   \n",
       "\n",
       "   2017_values  \n",
       "0       215637  \n",
       "1       181970  \n",
       "2       507962  \n",
       "3       147610  \n",
       "4       732735  "
      ]
     },
     "execution_count": 4,
     "metadata": {},
     "output_type": "execute_result"
    }
   ],
   "source": [
    "df = pd.read_csv('results_for_region.csv')\n",
    "df.head()"
   ]
  },
  {
   "cell_type": "code",
   "execution_count": 112,
   "metadata": {},
   "outputs": [
    {
     "data": {
      "text/plain": [
       "9.174896338574241"
      ]
     },
     "execution_count": 112,
     "metadata": {},
     "output_type": "execute_result"
    }
   ],
   "source": [
    "df['2012'][1]"
   ]
  },
  {
   "cell_type": "code",
   "execution_count": 135,
   "metadata": {},
   "outputs": [
    {
     "name": "stdout",
     "output_type": "stream",
     "text": [
      "df.shape[0]:  5\n",
      "aux:  6\n"
     ]
    }
   ],
   "source": [
    "aux = int(((df.shape[1] - 1) / 2))\n",
    "old_year = [2012,2013,2014,2015,2016,2017]\n",
    "old_year_values = ['2012_values', '2013_values', '2014_values', '2015_values', '2016_values', '2017_values']\n",
    "\n",
    "region = []\n",
    "year = []\n",
    "percent = []\n",
    "value = []\n",
    "   \n",
    "for i in range(df.shape[0]):\n",
    "    for j in range(aux):\n",
    "        region.append(df['Region'][i])\n",
    "        year.append(old_year[j])\n",
    "        percent.append(df[str(old_year[j])][i])\n",
    "        value.append(df[str(old_year_values[j])][i])\n",
    "\n",
    "plot_df = pd.DataFrame(region, columns = ['Region'])\n",
    "plot_df['Year'] = year\n",
    "plot_df['Percent_Value'] = percent\n",
    "plot_df['Large_Value'] = value\n",
    "\n",
    "export_csv = plot_df.to_csv (r'verificar.csv', index = None, header=True)"
   ]
  },
  {
   "cell_type": "code",
   "execution_count": 137,
   "metadata": {},
   "outputs": [
    {
     "data": {
      "image/png": "[encoded data removed]",
      "text/plain": [
       "<Figure size 841.85x720 with 1 Axes>"
      ]
     },
     "metadata": {},
     "output_type": "display_data"
    }
   ],
   "source": [
    "plot_df.head()\n",
    "g = sns.catplot(x = 'Year', y = 'Percent_Value', hue = 'Region', data = plot_df, height = 10, kind = 'bar')"
   ]
  },
  {
   "cell_type": "markdown",
   "metadata": {},
   "source": [
    "## Plot special needs"
   ]
  },
  {
   "cell_type": "code",
   "execution_count": 154,
   "metadata": {},
   "outputs": [
    {
     "data": {
      "text/plain": [
       "1.2750011304944489"
      ]
     },
     "execution_count": 154,
     "metadata": {},
     "output_type": "execute_result"
    }
   ],
   "source": [
    "df_special = pd.read_csv('results_special_needs.csv')\n",
    "df_special.head()\n",
    "\n",
    "df_special['2012'][0]"
   ]
  },
  {
   "cell_type": "code",
   "execution_count": 162,
   "metadata": {},
   "outputs": [
    {
     "data": {
      "image/png": "[encoded data removed]",
      "text/plain": [
       "<Figure size 720x720 with 1 Axes>"
      ]
     },
     "metadata": {},
     "output_type": "display_data"
    }
   ],
   "source": [
    "aux = int(((df_special.shape[1] - 1) / 2))\n",
    "old_year = [2012,2013,2014,2015,2016,2017]\n",
    "old_year_values = ['2012_values', '2013_values', '2014_values', '2015_values', '2016_values', '2017_values']\n",
    "\n",
    "year = []\n",
    "percent = []\n",
    "value = []\n",
    "\n",
    "for i in range(len(old_year)):\n",
    "    year.append(old_year[i])\n",
    "    percent.append(df[str(old_year[i])][0])\n",
    "    value.append(df[str(old_year_values[i])][0])\n",
    "\n",
    "plot_df = pd.DataFrame(year, columns = ['Year'])\n",
    "plot_df['Percent_Value'] = percent\n",
    "plot_df['Large_Value'] = value\n",
    "\n",
    "# export_csv = plot_df.to_csv (r'verificar.csv', index = None, header=True)\n",
    "g = sns.catplot(x = 'Year', y = 'Percent_Value', data = plot_df, height = 10, kind = 'bar')"
   ]
  },
  {
   "cell_type": "code",
   "execution_count": 166,
   "metadata": {},
   "outputs": [
    {
     "data": {
      "text/html": [
       "<div>\n",
       "<style scoped>\n",
       "    .dataframe tbody tr th:only-of-type {\n",
       "        vertical-align: middle;\n",
       "    }\n",
       "\n",
       "    .dataframe tbody tr th {\n",
       "        vertical-align: top;\n",
       "    }\n",
       "\n",
       "    .dataframe thead th {\n",
       "        text-align: right;\n",
       "    }\n",
       "</style>\n",
       "<table border=\"1\" class=\"dataframe\">\n",
       "  <thead>\n",
       "    <tr style=\"text-align: right;\">\n",
       "      <th></th>\n",
       "      <th>Year</th>\n",
       "      <th>Percent_Value</th>\n",
       "      <th>Large_Value</th>\n",
       "    </tr>\n",
       "  </thead>\n",
       "  <tbody>\n",
       "    <tr>\n",
       "      <td>0</td>\n",
       "      <td>2012</td>\n",
       "      <td>1.275001</td>\n",
       "      <td>19455</td>\n",
       "    </tr>\n",
       "    <tr>\n",
       "      <td>1</td>\n",
       "      <td>2013</td>\n",
       "      <td>1.766546</td>\n",
       "      <td>28898</td>\n",
       "    </tr>\n",
       "    <tr>\n",
       "      <td>2</td>\n",
       "      <td>2014</td>\n",
       "      <td>1.404441</td>\n",
       "      <td>24695</td>\n",
       "    </tr>\n",
       "    <tr>\n",
       "      <td>3</td>\n",
       "      <td>2015</td>\n",
       "      <td>1.457322</td>\n",
       "      <td>24035</td>\n",
       "    </tr>\n",
       "    <tr>\n",
       "      <td>4</td>\n",
       "      <td>2016</td>\n",
       "      <td>1.531509</td>\n",
       "      <td>28812</td>\n",
       "    </tr>\n",
       "  </tbody>\n",
       "</table>\n",
       "</div>"
      ],
      "text/plain": [
       "   Year  Percent_Value  Large_Value\n",
       "0  2012       1.275001        19455\n",
       "1  2013       1.766546        28898\n",
       "2  2014       1.404441        24695\n",
       "3  2015       1.457322        24035\n",
       "4  2016       1.531509        28812"
      ]
     },
     "execution_count": 166,
     "metadata": {},
     "output_type": "execute_result"
    }
   ],
   "source": [
    "plot_df.head()"
   ]
  },
  {
   "cell_type": "markdown",
   "metadata": {},
   "source": [
    "## Plot for school"
   ]
  },
  {
   "cell_type": "code",
   "execution_count": 163,
   "metadata": {},
   "outputs": [
    {
     "data": {
      "text/html": [
       "<div>\n",
       "<style scoped>\n",
       "    .dataframe tbody tr th:only-of-type {\n",
       "        vertical-align: middle;\n",
       "    }\n",
       "\n",
       "    .dataframe tbody tr th {\n",
       "        vertical-align: top;\n",
       "    }\n",
       "\n",
       "    .dataframe thead th {\n",
       "        text-align: right;\n",
       "    }\n",
       "</style>\n",
       "<table border=\"1\" class=\"dataframe\">\n",
       "  <thead>\n",
       "    <tr style=\"text-align: right;\">\n",
       "      <th></th>\n",
       "      <th>2012</th>\n",
       "      <th>2012_values</th>\n",
       "      <th>2013</th>\n",
       "      <th>2013_values</th>\n",
       "      <th>2014</th>\n",
       "      <th>2014_values</th>\n",
       "      <th>2015</th>\n",
       "      <th>2015_values</th>\n",
       "      <th>2016</th>\n",
       "      <th>2016_values</th>\n",
       "      <th>2017</th>\n",
       "      <th>2017_values</th>\n",
       "    </tr>\n",
       "  </thead>\n",
       "  <tbody>\n",
       "    <tr>\n",
       "      <td>0</td>\n",
       "      <td>1.720580</td>\n",
       "      <td>26254</td>\n",
       "      <td>1.796744</td>\n",
       "      <td>29392</td>\n",
       "      <td>1.834787</td>\n",
       "      <td>32262</td>\n",
       "      <td>2.073175</td>\n",
       "      <td>34192</td>\n",
       "      <td>2.059287</td>\n",
       "      <td>38741</td>\n",
       "      <td>2.511039</td>\n",
       "      <td>44845</td>\n",
       "    </tr>\n",
       "    <tr>\n",
       "      <td>1</td>\n",
       "      <td>77.525049</td>\n",
       "      <td>1182940</td>\n",
       "      <td>77.938965</td>\n",
       "      <td>1274963</td>\n",
       "      <td>75.430275</td>\n",
       "      <td>1326329</td>\n",
       "      <td>78.433635</td>\n",
       "      <td>1293573</td>\n",
       "      <td>79.814031</td>\n",
       "      <td>1501527</td>\n",
       "      <td>79.705182</td>\n",
       "      <td>1423466</td>\n",
       "    </tr>\n",
       "    <tr>\n",
       "      <td>2</td>\n",
       "      <td>1.185938</td>\n",
       "      <td>18096</td>\n",
       "      <td>1.150657</td>\n",
       "      <td>18823</td>\n",
       "      <td>1.046833</td>\n",
       "      <td>18407</td>\n",
       "      <td>1.038588</td>\n",
       "      <td>17129</td>\n",
       "      <td>1.149961</td>\n",
       "      <td>21634</td>\n",
       "      <td>1.140872</td>\n",
       "      <td>20375</td>\n",
       "    </tr>\n",
       "    <tr>\n",
       "      <td>3</td>\n",
       "      <td>19.568433</td>\n",
       "      <td>298591</td>\n",
       "      <td>19.113634</td>\n",
       "      <td>312670</td>\n",
       "      <td>21.688104</td>\n",
       "      <td>381353</td>\n",
       "      <td>18.454602</td>\n",
       "      <td>304364</td>\n",
       "      <td>16.976721</td>\n",
       "      <td>319380</td>\n",
       "      <td>16.642907</td>\n",
       "      <td>297228</td>\n",
       "    </tr>\n",
       "  </tbody>\n",
       "</table>\n",
       "</div>"
      ],
      "text/plain": [
       "        2012  2012_values       2013  2013_values       2014  2014_values  \\\n",
       "0   1.720580        26254   1.796744        29392   1.834787        32262   \n",
       "1  77.525049      1182940  77.938965      1274963  75.430275      1326329   \n",
       "2   1.185938        18096   1.150657        18823   1.046833        18407   \n",
       "3  19.568433       298591  19.113634       312670  21.688104       381353   \n",
       "\n",
       "        2015  2015_values       2016  2016_values       2017  2017_values  \n",
       "0   2.073175        34192   2.059287        38741   2.511039        44845  \n",
       "1  78.433635      1293573  79.814031      1501527  79.705182      1423466  \n",
       "2   1.038588        17129   1.149961        21634   1.140872        20375  \n",
       "3  18.454602       304364  16.976721       319380  16.642907       297228  "
      ]
     },
     "execution_count": 163,
     "metadata": {},
     "output_type": "execute_result"
    }
   ],
   "source": [
    "df = pd.read_csv('results_for_school.csv')\n",
    "df.head()"
   ]
  },
  {
   "cell_type": "code",
   "execution_count": 171,
   "metadata": {},
   "outputs": [
    {
     "data": {
      "image/png": "[encoded data removed]",
      "text/plain": [
       "<Figure size 812.225x720 with 1 Axes>"
      ]
     },
     "metadata": {},
     "output_type": "display_data"
    }
   ],
   "source": [
    "aux = int(((df.shape[1]) / 2))\n",
    "old_year = [2012,2013,2014,2015,2016,2017]\n",
    "old_year_values = ['2012_values', '2013_values', '2014_values', '2015_values', '2016_values', '2017_values']\n",
    "kind_school = ['Federal', 'Estadual', 'Municipal', 'Privada']\n",
    "\n",
    "\n",
    "school  = []\n",
    "year    = []\n",
    "percent = []\n",
    "value   = []\n",
    "  \n",
    "for i in range(df.shape[0]):\n",
    "    for j in range(aux):\n",
    "        school.append(kind_school[i])\n",
    "        year.append(old_year[j])\n",
    "        percent.append(df[str(old_year[j])][i])\n",
    "        value.append(df[str(old_year_values[j])][i])\n",
    "\n",
    "plot_df = pd.DataFrame(school, columns = ['School'])\n",
    "plot_df['Year'] = year\n",
    "plot_df['Percent_Value'] = percent\n",
    "plot_df['Large_Value'] = value\n",
    "\n",
    "# export_csv = plot_df.to_csv (r'verificar.csv', index = None, header=True)\n",
    "g = sns.catplot(x = 'Year', y = 'Percent_Value', hue = 'School', data = plot_df, height = 10, kind = 'bar')"
   ]
  },
  {
   "cell_type": "code",
   "execution_count": null,
   "metadata": {},
   "outputs": [],
   "source": []
  }
 ],
 "metadata": {
  "kernelspec": {
   "display_name": "Python 3",
   "language": "python",
   "name": "python3"
  },
  "language_info": {
   "codemirror_mode": {
    "name": "ipython",
    "version": 3
   },
   "file_extension": ".py",
   "mimetype": "text/x-python",
   "name": "python",
   "nbconvert_exporter": "python",
   "pygments_lexer": "ipython3",
   "version": "3.7.4"
  }
 },
 "nbformat": 4,
 "nbformat_minor": 2
}
