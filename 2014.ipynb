{
 "cells": [
  {
   "cell_type": "code",
   "execution_count": 1,
   "metadata": {},
   "outputs": [],
   "source": [
    "import pandas as pd"
   ]
  },
  {
   "cell_type": "code",
   "execution_count": 2,
   "metadata": {},
   "outputs": [],
   "source": [
    "import numpy as np"
   ]
  },
  {
   "cell_type": "code",
   "execution_count": 3,
   "metadata": {},
   "outputs": [],
   "source": [
    "df = pd.read_csv('MICRODADOS_ENEM_2014.csv', encoding='iso-8859-1', sep = ',')"
   ]
  },
  {
   "cell_type": "code",
   "execution_count": 4,
   "metadata": {},
   "outputs": [
    {
     "data": {
      "text/html": [
       "<div>\n",
       "<style scoped>\n",
       "    .dataframe tbody tr th:only-of-type {\n",
       "        vertical-align: middle;\n",
       "    }\n",
       "\n",
       "    .dataframe tbody tr th {\n",
       "        vertical-align: top;\n",
       "    }\n",
       "\n",
       "    .dataframe thead th {\n",
       "        text-align: right;\n",
       "    }\n",
       "</style>\n",
       "<table border=\"1\" class=\"dataframe\">\n",
       "  <thead>\n",
       "    <tr style=\"text-align: right;\">\n",
       "      <th></th>\n",
       "      <th>NU_INSCRICAO</th>\n",
       "      <th>NU_ANO</th>\n",
       "      <th>COD_MUNICIPIO_RESIDENCIA</th>\n",
       "      <th>NO_MUNICIPIO_RESIDENCIA</th>\n",
       "      <th>COD_UF_RESIDENCIA</th>\n",
       "      <th>UF_RESIDENCIA</th>\n",
       "      <th>IN_ESTUDA_CLASSE_HOSPITALAR</th>\n",
       "      <th>COD_ESCOLA</th>\n",
       "      <th>COD_MUNICIPIO_ESC</th>\n",
       "      <th>NO_MUNICIPIO_ESC</th>\n",
       "      <th>...</th>\n",
       "      <th>Q067</th>\n",
       "      <th>Q068</th>\n",
       "      <th>Q069</th>\n",
       "      <th>Q070</th>\n",
       "      <th>Q071</th>\n",
       "      <th>Q072</th>\n",
       "      <th>Q073</th>\n",
       "      <th>Q074</th>\n",
       "      <th>Q075</th>\n",
       "      <th>Q076</th>\n",
       "    </tr>\n",
       "  </thead>\n",
       "  <tbody>\n",
       "    <tr>\n",
       "      <td>0</td>\n",
       "      <td>140000000001</td>\n",
       "      <td>2014</td>\n",
       "      <td>3548708</td>\n",
       "      <td>SAO BERNARDO DO CAMPO</td>\n",
       "      <td>35</td>\n",
       "      <td>SP</td>\n",
       "      <td>0</td>\n",
       "      <td>NaN</td>\n",
       "      <td>NaN</td>\n",
       "      <td>NaN</td>\n",
       "      <td>...</td>\n",
       "      <td>NaN</td>\n",
       "      <td>NaN</td>\n",
       "      <td>NaN</td>\n",
       "      <td>NaN</td>\n",
       "      <td>NaN</td>\n",
       "      <td>NaN</td>\n",
       "      <td>NaN</td>\n",
       "      <td>NaN</td>\n",
       "      <td>NaN</td>\n",
       "      <td>NaN</td>\n",
       "    </tr>\n",
       "    <tr>\n",
       "      <td>1</td>\n",
       "      <td>140000000002</td>\n",
       "      <td>2014</td>\n",
       "      <td>3118601</td>\n",
       "      <td>CONTAGEM</td>\n",
       "      <td>31</td>\n",
       "      <td>MG</td>\n",
       "      <td>0</td>\n",
       "      <td>NaN</td>\n",
       "      <td>NaN</td>\n",
       "      <td>NaN</td>\n",
       "      <td>...</td>\n",
       "      <td>B</td>\n",
       "      <td>B</td>\n",
       "      <td>B</td>\n",
       "      <td>A</td>\n",
       "      <td>B</td>\n",
       "      <td>B</td>\n",
       "      <td>B</td>\n",
       "      <td>B</td>\n",
       "      <td>B</td>\n",
       "      <td>D</td>\n",
       "    </tr>\n",
       "    <tr>\n",
       "      <td>2</td>\n",
       "      <td>140000000003</td>\n",
       "      <td>2014</td>\n",
       "      <td>3550308</td>\n",
       "      <td>SAO PAULO</td>\n",
       "      <td>35</td>\n",
       "      <td>SP</td>\n",
       "      <td>0</td>\n",
       "      <td>NaN</td>\n",
       "      <td>NaN</td>\n",
       "      <td>NaN</td>\n",
       "      <td>...</td>\n",
       "      <td>NaN</td>\n",
       "      <td>NaN</td>\n",
       "      <td>NaN</td>\n",
       "      <td>NaN</td>\n",
       "      <td>NaN</td>\n",
       "      <td>NaN</td>\n",
       "      <td>NaN</td>\n",
       "      <td>NaN</td>\n",
       "      <td>NaN</td>\n",
       "      <td>NaN</td>\n",
       "    </tr>\n",
       "    <tr>\n",
       "      <td>3</td>\n",
       "      <td>140000000004</td>\n",
       "      <td>2014</td>\n",
       "      <td>3550308</td>\n",
       "      <td>SAO PAULO</td>\n",
       "      <td>35</td>\n",
       "      <td>SP</td>\n",
       "      <td>0</td>\n",
       "      <td>NaN</td>\n",
       "      <td>NaN</td>\n",
       "      <td>NaN</td>\n",
       "      <td>...</td>\n",
       "      <td>NaN</td>\n",
       "      <td>NaN</td>\n",
       "      <td>NaN</td>\n",
       "      <td>NaN</td>\n",
       "      <td>NaN</td>\n",
       "      <td>NaN</td>\n",
       "      <td>NaN</td>\n",
       "      <td>NaN</td>\n",
       "      <td>NaN</td>\n",
       "      <td>NaN</td>\n",
       "    </tr>\n",
       "    <tr>\n",
       "      <td>4</td>\n",
       "      <td>140000000005</td>\n",
       "      <td>2014</td>\n",
       "      <td>2933307</td>\n",
       "      <td>VITORIA DA CONQUISTA</td>\n",
       "      <td>29</td>\n",
       "      <td>BA</td>\n",
       "      <td>0</td>\n",
       "      <td>NaN</td>\n",
       "      <td>NaN</td>\n",
       "      <td>NaN</td>\n",
       "      <td>...</td>\n",
       "      <td>NaN</td>\n",
       "      <td>NaN</td>\n",
       "      <td>NaN</td>\n",
       "      <td>NaN</td>\n",
       "      <td>NaN</td>\n",
       "      <td>NaN</td>\n",
       "      <td>NaN</td>\n",
       "      <td>NaN</td>\n",
       "      <td>NaN</td>\n",
       "      <td>NaN</td>\n",
       "    </tr>\n",
       "  </tbody>\n",
       "</table>\n",
       "<p>5 rows × 166 columns</p>\n",
       "</div>"
      ],
      "text/plain": [
       "   NU_INSCRICAO  NU_ANO  COD_MUNICIPIO_RESIDENCIA NO_MUNICIPIO_RESIDENCIA  \\\n",
       "0  140000000001    2014                   3548708   SAO BERNARDO DO CAMPO   \n",
       "1  140000000002    2014                   3118601                CONTAGEM   \n",
       "2  140000000003    2014                   3550308               SAO PAULO   \n",
       "3  140000000004    2014                   3550308               SAO PAULO   \n",
       "4  140000000005    2014                   2933307    VITORIA DA CONQUISTA   \n",
       "\n",
       "   COD_UF_RESIDENCIA UF_RESIDENCIA  IN_ESTUDA_CLASSE_HOSPITALAR  COD_ESCOLA  \\\n",
       "0                 35            SP                            0         NaN   \n",
       "1                 31            MG                            0         NaN   \n",
       "2                 35            SP                            0         NaN   \n",
       "3                 35            SP                            0         NaN   \n",
       "4                 29            BA                            0         NaN   \n",
       "\n",
       "   COD_MUNICIPIO_ESC NO_MUNICIPIO_ESC  ...  Q067 Q068  Q069  Q070  Q071  Q072  \\\n",
       "0                NaN              NaN  ...   NaN  NaN   NaN   NaN   NaN   NaN   \n",
       "1                NaN              NaN  ...     B    B     B     A     B     B   \n",
       "2                NaN              NaN  ...   NaN  NaN   NaN   NaN   NaN   NaN   \n",
       "3                NaN              NaN  ...   NaN  NaN   NaN   NaN   NaN   NaN   \n",
       "4                NaN              NaN  ...   NaN  NaN   NaN   NaN   NaN   NaN   \n",
       "\n",
       "  Q073  Q074  Q075 Q076  \n",
       "0  NaN   NaN   NaN  NaN  \n",
       "1    B     B     B    D  \n",
       "2  NaN   NaN   NaN  NaN  \n",
       "3  NaN   NaN   NaN  NaN  \n",
       "4  NaN   NaN   NaN  NaN  \n",
       "\n",
       "[5 rows x 166 columns]"
      ]
     },
     "execution_count": 4,
     "metadata": {},
     "output_type": "execute_result"
    }
   ],
   "source": [
    "df.head()"
   ]
  },
  {
   "cell_type": "code",
   "execution_count": 5,
   "metadata": {},
   "outputs": [],
   "source": [
    "totalGlobal = df.shape[0]"
   ]
  },
  {
   "cell_type": "code",
   "execution_count": 6,
   "metadata": {},
   "outputs": [],
   "source": [
    "df = df[np.isfinite(df['ID_DEPENDENCIA_ADM_ESC'])]"
   ]
  },
  {
   "cell_type": "code",
   "execution_count": 7,
   "metadata": {},
   "outputs": [
    {
     "data": {
      "text/plain": [
       "(1758351, 166)"
      ]
     },
     "execution_count": 7,
     "metadata": {},
     "output_type": "execute_result"
    }
   ],
   "source": [
    "df.shape"
   ]
  },
  {
   "cell_type": "markdown",
   "metadata": {},
   "source": [
    "## Values NaN"
   ]
  },
  {
   "cell_type": "code",
   "execution_count": 8,
   "metadata": {},
   "outputs": [
    {
     "name": "stdout",
     "output_type": "stream",
     "text": [
      "IDADE => 89\n",
      "COD_MUNICIPIO_NASCIMENTO => 13492\n",
      "NO_MUNICIPIO_NASCIMENTO => 13492\n",
      "COD_UF_NASCIMENTO => 13490\n",
      "UF_NASCIMENTO => 13490\n",
      "ANO_CONCLUIU => 1756484\n",
      "TP_ESCOLA => 7943\n",
      "IN_TP_ENSINO => 7942\n",
      "IN_CERTIFICADO => 942942\n",
      "NO_ENTIDADE_CERTIFICACAO => 1499396\n",
      "COD_UF_ENTIDADE_CERTIFICACAO => 1499396\n",
      "UF_ENTIDADE_CERTIFICACAO => 1499396\n",
      "NOTA_CN => 272036\n",
      "NOTA_CH => 272036\n",
      "NOTA_LC => 297644\n",
      "NOTA_MT => 297644\n",
      "TX_RESPOSTAS_LC => 1\n",
      "TX_RESPOSTAS_MT => 1\n",
      "GABARITO_CN => 272036\n",
      "GABARITO_CH => 272036\n",
      "GABARITO_LC => 297644\n",
      "GABARITO_MT => 297644\n",
      "Q025 => 1745082\n",
      "Q031 => 976729\n",
      "Q032 => 976729\n",
      "Q034 => 975075\n",
      "Q035 => 975075\n",
      "Q040 => 1080074\n",
      "Q041 => 1080074\n",
      "Q042 => 1080074\n",
      "Q043 => 1080074\n",
      "Q044 => 1080074\n",
      "Q045 => 1080074\n",
      "Q046 => 1080074\n",
      "Q047 => 1080074\n",
      "Q048 => 1080074\n",
      "Q049 => 1080074\n",
      "Q050 => 1080074\n",
      "Q051 => 1080074\n",
      "Q052 => 1080074\n",
      "Q053 => 1080074\n",
      "Q054 => 1496736\n",
      "Q055 => 1659730\n",
      "Q056 => 1659730\n",
      "Q057 => 1659730\n",
      "Q058 => 1659730\n",
      "Q059 => 1659730\n",
      "Q060 => 1659627\n",
      "Q061 => 1659730\n",
      "Q062 => 1659730\n",
      "Q063 => 1659627\n",
      "Q064 => 1497420\n",
      "Q065 => 1536159\n",
      "Q066 => 1536159\n",
      "Q067 => 1536159\n",
      "Q068 => 1536159\n",
      "Q069 => 1536159\n",
      "Q070 => 1536159\n",
      "Q071 => 1536159\n",
      "Q072 => 1536159\n",
      "Q073 => 1536159\n",
      "Q074 => 1536159\n",
      "Q075 => 1536159\n",
      "Q076 => 1536891\n",
      "schools_without_null:  1758351\n"
     ]
    }
   ],
   "source": [
    "nullvalues = (df.isnull().sum())\n",
    "total_size = df.shape[0]\n",
    "schools_without_null = 0\n",
    "columns = list(df)\n",
    "for idx, col in enumerate(columns):\n",
    "    if col == 'ID_DEPENDENCIA_ADM_ESC':\n",
    "        schools_without_null = total_size - nullvalues[idx]\n",
    "    if nullvalues[idx] > 0:\n",
    "        print(col + ' => '+str(nullvalues[idx]))\n",
    "print('schools_without_null: ', schools_without_null)"
   ]
  },
  {
   "cell_type": "markdown",
   "metadata": {},
   "source": [
    "## Porcentage of available data"
   ]
  },
  {
   "cell_type": "code",
   "execution_count": 9,
   "metadata": {},
   "outputs": [
    {
     "name": "stdout",
     "output_type": "stream",
     "text": [
      "20.1593786372504\n"
     ]
    }
   ],
   "source": [
    "# total = df.shape[0]\n",
    "\n",
    "porcentage = (schools_without_null * 100) / totalGlobal\n",
    "print(porcentage)"
   ]
  },
  {
   "cell_type": "code",
   "execution_count": 10,
   "metadata": {},
   "outputs": [
    {
     "data": {
      "text/plain": [
       "(1758351, 166)"
      ]
     },
     "execution_count": 10,
     "metadata": {},
     "output_type": "execute_result"
    }
   ],
   "source": [
    "df.shape"
   ]
  },
  {
   "cell_type": "markdown",
   "metadata": {},
   "source": [
    "## Tipo de Escola"
   ]
  },
  {
   "cell_type": "code",
   "execution_count": 11,
   "metadata": {},
   "outputs": [
    {
     "data": {
      "text/plain": [
       "2.0    1326329\n",
       "3.0      18407\n",
       "4.0     381353\n",
       "1.0      32262\n",
       "Name: ID_DEPENDENCIA_ADM_ESC, dtype: int64"
      ]
     },
     "execution_count": 11,
     "metadata": {},
     "output_type": "execute_result"
    }
   ],
   "source": [
    "df['ID_DEPENDENCIA_ADM_ESC'].value_counts(sort = False)"
   ]
  },
  {
   "cell_type": "code",
   "execution_count": 14,
   "metadata": {},
   "outputs": [
    {
     "name": "stdout",
     "output_type": "stream",
     "text": [
      "2.0 75.43027529770791\n",
      "3.0 1.0468330839519526\n",
      "4.0 21.68810436596561\n",
      "1.0 1.834787252374526\n",
      "**************************************************\n",
      "1.0 1.834787252374526 32262\n",
      "2.0 75.43027529770791 1326329\n",
      "3.0 1.0468330839519526 18407\n",
      "4.0 21.68810436596561 381353\n"
     ]
    }
   ],
   "source": [
    "a = df['ID_DEPENDENCIA_ADM_ESC'].value_counts(sort = False).to_dict()\n",
    "\n",
    "for idx, value in a.items():\n",
    "    x = (value * 100) / schools_without_null\n",
    "    print(idx, x)\n",
    "    \n",
    "print('*'*50)\n",
    "\n",
    "values_percent_to_save = []\n",
    "values_to_save = []\n",
    "for idx, value in sorted(a.items()):\n",
    "    x = (value * 100) / schools_without_null\n",
    "    values_percent_to_save.append(x)\n",
    "    values_to_save.append(value)\n",
    "    print(idx, x, value)\n"
   ]
  },
  {
   "cell_type": "code",
   "execution_count": 15,
   "metadata": {},
   "outputs": [
    {
     "data": {
      "text/html": [
       "<div>\n",
       "<style scoped>\n",
       "    .dataframe tbody tr th:only-of-type {\n",
       "        vertical-align: middle;\n",
       "    }\n",
       "\n",
       "    .dataframe tbody tr th {\n",
       "        vertical-align: top;\n",
       "    }\n",
       "\n",
       "    .dataframe thead th {\n",
       "        text-align: right;\n",
       "    }\n",
       "</style>\n",
       "<table border=\"1\" class=\"dataframe\">\n",
       "  <thead>\n",
       "    <tr style=\"text-align: right;\">\n",
       "      <th></th>\n",
       "      <th>2012</th>\n",
       "      <th>2012_values</th>\n",
       "      <th>2013</th>\n",
       "      <th>2013_values</th>\n",
       "      <th>2014</th>\n",
       "      <th>2014_values</th>\n",
       "    </tr>\n",
       "  </thead>\n",
       "  <tbody>\n",
       "    <tr>\n",
       "      <td>0</td>\n",
       "      <td>1.720580</td>\n",
       "      <td>26254</td>\n",
       "      <td>1.796744</td>\n",
       "      <td>29392</td>\n",
       "      <td>1.834787</td>\n",
       "      <td>32262</td>\n",
       "    </tr>\n",
       "    <tr>\n",
       "      <td>1</td>\n",
       "      <td>77.525049</td>\n",
       "      <td>1182940</td>\n",
       "      <td>77.938965</td>\n",
       "      <td>1274963</td>\n",
       "      <td>75.430275</td>\n",
       "      <td>1326329</td>\n",
       "    </tr>\n",
       "    <tr>\n",
       "      <td>2</td>\n",
       "      <td>1.185938</td>\n",
       "      <td>18096</td>\n",
       "      <td>1.150657</td>\n",
       "      <td>18823</td>\n",
       "      <td>1.046833</td>\n",
       "      <td>18407</td>\n",
       "    </tr>\n",
       "    <tr>\n",
       "      <td>3</td>\n",
       "      <td>19.568433</td>\n",
       "      <td>298591</td>\n",
       "      <td>19.113634</td>\n",
       "      <td>312670</td>\n",
       "      <td>21.688104</td>\n",
       "      <td>381353</td>\n",
       "    </tr>\n",
       "  </tbody>\n",
       "</table>\n",
       "</div>"
      ],
      "text/plain": [
       "        2012  2012_values       2013  2013_values       2014  2014_values\n",
       "0   1.720580        26254   1.796744        29392   1.834787        32262\n",
       "1  77.525049      1182940  77.938965      1274963  75.430275      1326329\n",
       "2   1.185938        18096   1.150657        18823   1.046833        18407\n",
       "3  19.568433       298591  19.113634       312670  21.688104       381353"
      ]
     },
     "execution_count": 15,
     "metadata": {},
     "output_type": "execute_result"
    }
   ],
   "source": [
    "csv_input = pd.read_csv('results_for_school.csv')\n",
    "csv_input['2014'] = values_percent_to_save\n",
    "csv_input['2014_values'] = values_to_save\n",
    "csv_input.head()"
   ]
  },
  {
   "cell_type": "code",
   "execution_count": 16,
   "metadata": {},
   "outputs": [],
   "source": [
    "export_csv = csv_input.to_csv (r'results_for_school.csv', index = None, header=True)"
   ]
  },
  {
   "cell_type": "markdown",
   "metadata": {},
   "source": [
    "## Alumno con necesidades especiales"
   ]
  },
  {
   "cell_type": "code",
   "execution_count": 17,
   "metadata": {},
   "outputs": [
    {
     "data": {
      "text/plain": [
       "(1758351, 166)"
      ]
     },
     "execution_count": 17,
     "metadata": {},
     "output_type": "execute_result"
    }
   ],
   "source": [
    "df.shape"
   ]
  },
  {
   "cell_type": "code",
   "execution_count": 18,
   "metadata": {},
   "outputs": [
    {
     "name": "stdout",
     "output_type": "stream",
     "text": [
      "There is not elements on:  IN_DISCALCULIA\n",
      "There is not elements on:  IN_VISAO_MONOCULAR\n",
      "There is not elements on:  IN_OUTRA_DEF\n",
      "total_necesidades:  24695\n",
      "1.4044408653334857\n"
     ]
    }
   ],
   "source": [
    "array = ['IN_BAIXA_VISAO', 'IN_CEGUEIRA', 'IN_SURDEZ', 'IN_DEFICIENCIA_AUDITIVA', 'IN_SURDO_CEGUEIRA', 'IN_DEFICIENCIA_FISICA', 'IN_DEFICIENCIA_MENTAL', 'IN_DEFICIT_ATENCAO', 'IN_DISLEXIA', 'IN_GESTANTE', 'IN_LACTANTE', 'IN_IDOSO', 'IN_DISCALCULIA', 'IN_AUTISMO', 'IN_VISAO_MONOCULAR', 'IN_SABATISTA', 'IN_OUTRA_DEF']\n",
    "total_necesidades = 0\n",
    "for item in array:\n",
    "    try:\n",
    "        aux = df[item].value_counts().to_dict()\n",
    "        total_necesidades += aux[1]\n",
    "    except:\n",
    "        print('There is not elements on: ', item)\n",
    "print('total_necesidades: ', total_necesidades)\n",
    "\n",
    "aux = (total_necesidades * 100)/df.shape[0]\n",
    "print(aux)"
   ]
  },
  {
   "cell_type": "code",
   "execution_count": 19,
   "metadata": {},
   "outputs": [
    {
     "data": {
      "text/html": [
       "<div>\n",
       "<style scoped>\n",
       "    .dataframe tbody tr th:only-of-type {\n",
       "        vertical-align: middle;\n",
       "    }\n",
       "\n",
       "    .dataframe tbody tr th {\n",
       "        vertical-align: top;\n",
       "    }\n",
       "\n",
       "    .dataframe thead th {\n",
       "        text-align: right;\n",
       "    }\n",
       "</style>\n",
       "<table border=\"1\" class=\"dataframe\">\n",
       "  <thead>\n",
       "    <tr style=\"text-align: right;\">\n",
       "      <th></th>\n",
       "      <th>2012</th>\n",
       "      <th>2012_values</th>\n",
       "      <th>2013</th>\n",
       "      <th>2013_values</th>\n",
       "      <th>2014</th>\n",
       "      <th>2014_values</th>\n",
       "    </tr>\n",
       "  </thead>\n",
       "  <tbody>\n",
       "    <tr>\n",
       "      <td>0</td>\n",
       "      <td>1.275001</td>\n",
       "      <td>19455</td>\n",
       "      <td>1.766546</td>\n",
       "      <td>28898</td>\n",
       "      <td>1.404441</td>\n",
       "      <td>24695</td>\n",
       "    </tr>\n",
       "  </tbody>\n",
       "</table>\n",
       "</div>"
      ],
      "text/plain": [
       "       2012  2012_values      2013  2013_values      2014  2014_values\n",
       "0  1.275001        19455  1.766546        28898  1.404441        24695"
      ]
     },
     "execution_count": 19,
     "metadata": {},
     "output_type": "execute_result"
    }
   ],
   "source": [
    "csv_input = pd.read_csv('results_special_needs.csv')\n",
    "csv_input['2014'] = aux\n",
    "csv_input['2014_values'] = total_necesidades\n",
    "csv_input.head()"
   ]
  },
  {
   "cell_type": "code",
   "execution_count": 1,
   "metadata": {},
   "outputs": [
    {
     "ename": "NameError",
     "evalue": "name 'csv_input' is not defined",
     "output_type": "error",
     "traceback": [
      "\u001b[0;31m---------------------------------------------------------------------------\u001b[0m",
      "\u001b[0;31mNameError\u001b[0m                                 Traceback (most recent call last)",
      "\u001b[0;32m<ipython-input-1-ad45930c10aa>\u001b[0m in \u001b[0;36m<module>\u001b[0;34m\u001b[0m\n\u001b[0;32m----> 1\u001b[0;31m \u001b[0mexport_csv\u001b[0m \u001b[0;34m=\u001b[0m \u001b[0mcsv_input\u001b[0m\u001b[0;34m.\u001b[0m\u001b[0mto_csv\u001b[0m \u001b[0;34m(\u001b[0m\u001b[0;34mr'results_special_needs.csv'\u001b[0m\u001b[0;34m,\u001b[0m \u001b[0mindex\u001b[0m \u001b[0;34m=\u001b[0m \u001b[0;32mNone\u001b[0m\u001b[0;34m,\u001b[0m \u001b[0mheader\u001b[0m\u001b[0;34m=\u001b[0m\u001b[0;32mTrue\u001b[0m\u001b[0;34m)\u001b[0m\u001b[0;34m\u001b[0m\u001b[0;34m\u001b[0m\u001b[0m\n\u001b[0m",
      "\u001b[0;31mNameError\u001b[0m: name 'csv_input' is not defined"
     ]
    }
   ],
   "source": [
    "export_csv = csv_input.to_csv (r'results_special_needs.csv', index = None, header=True)"
   ]
  },
  {
   "cell_type": "markdown",
   "metadata": {},
   "source": [
    "## Aluno por regiao"
   ]
  },
  {
   "cell_type": "code",
   "execution_count": 20,
   "metadata": {},
   "outputs": [
    {
     "data": {
      "text/plain": [
       "SP    352342\n",
       "MG    172018\n",
       "RJ    129649\n",
       "CE    123550\n",
       "PR     96724\n",
       "BA     93742\n",
       "DF     91935\n",
       "RS     86541\n",
       "PE     73931\n",
       "PA     67809\n",
       "GO     57088\n",
       "SC     52632\n",
       "MA     48805\n",
       "ES     37930\n",
       "AM     36991\n",
       "PB     31440\n",
       "PI     31055\n",
       "MT     29923\n",
       "RN     27886\n",
       "MS     23310\n",
       "AL     21879\n",
       "RO     17350\n",
       "SE     17224\n",
       "TO     14117\n",
       "AP      9045\n",
       "AC      8758\n",
       "RR      4677\n",
       "Name: UF_ESC, dtype: int64"
      ]
     },
     "execution_count": 20,
     "metadata": {},
     "output_type": "execute_result"
    }
   ],
   "source": [
    "array_kinds_regions = ['NU_NOTA_CN', 'NU_NOTA_CH', 'NU_NOTA_LC', 'NU_NOTA_MT']\n",
    "\n",
    "df['UF_ESC'].value_counts()"
   ]
  },
  {
   "cell_type": "code",
   "execution_count": 21,
   "metadata": {},
   "outputs": [
    {
     "name": "stdout",
     "output_type": "stream",
     "text": [
      "235897\n",
      "158747\n",
      "469512\n",
      "202256\n",
      "691939\n"
     ]
    }
   ],
   "source": [
    "df_SUL = df.loc[df['UF_ESC'].isin(['RS','SC','PR'])]\n",
    "df_NORTE = df.loc[df['UF_ESC'].isin(['AC','AP','AM', 'PA', 'RO', 'RR', 'TO'])]\n",
    "df_NORDESTE = df.loc[df['UF_ESC'].isin(['AL','BA','CE', 'MA', 'PB', 'PI', 'PE', 'RN', 'SE'])]\n",
    "df_CENTROOESTE = df.loc[df['UF_ESC'].isin(['DF','GO','MT', 'MS'])]\n",
    "df_SUDESTE = df.loc[df['UF_ESC'].isin(['ES','MG','RJ', 'SP'])]\n",
    "\n",
    "\n",
    "print(df_SUL.shape[0])\n",
    "print(df_NORTE.shape[0])\n",
    "print(df_NORDESTE.shape[0])\n",
    "print(df_CENTROOESTE.shape[0])\n",
    "print(df_SUDESTE.shape[0])\n"
   ]
  },
  {
   "cell_type": "code",
   "execution_count": 22,
   "metadata": {},
   "outputs": [
    {
     "name": "stdout",
     "output_type": "stream",
     "text": [
      "SUL:  13.415808334058445\n",
      "NORTE:  9.028174693221091\n",
      "NORDESTE:  26.70183598155317\n",
      "CENTROOESTE:  11.502595329373943\n",
      "SUDESTE:  39.35158566179335\n"
     ]
    }
   ],
   "source": [
    "total = df.shape[0]\n",
    "auxPercent = []\n",
    "auxValues = []\n",
    "auxSul =  (df_SUL.shape[0] * 100) / total\n",
    "print('SUL: ', auxSul)\n",
    "auxValues.append(df_SUL.shape[0])\n",
    "auxPercent.append(auxSul)\n",
    "\n",
    "auxNorte =  (df_NORTE.shape[0] * 100) / total\n",
    "print('NORTE: ', auxNorte)\n",
    "auxValues.append(df_NORTE.shape[0])\n",
    "auxPercent.append(auxNorte)\n",
    "\n",
    "auxNordeste =  (df_NORDESTE.shape[0] * 100) / total\n",
    "print('NORDESTE: ', auxNordeste)\n",
    "auxValues.append(df_NORDESTE.shape[0])\n",
    "auxPercent.append(auxNordeste)\n",
    "\n",
    "auxCentrooeste =  (df_CENTROOESTE.shape[0] * 100) / total\n",
    "print('CENTROOESTE: ', auxCentrooeste)\n",
    "auxValues.append(df_CENTROOESTE.shape[0])\n",
    "auxPercent.append(auxCentrooeste)\n",
    "\n",
    "auxSudeste =  (df_SUDESTE.shape[0] * 100) / total\n",
    "print('SUDESTE: ', auxSudeste)\n",
    "auxValues.append(df_SUDESTE.shape[0])\n",
    "auxPercent.append(auxSudeste)"
   ]
  },
  {
   "cell_type": "code",
   "execution_count": 23,
   "metadata": {},
   "outputs": [
    {
     "data": {
      "text/html": [
       "<div>\n",
       "<style scoped>\n",
       "    .dataframe tbody tr th:only-of-type {\n",
       "        vertical-align: middle;\n",
       "    }\n",
       "\n",
       "    .dataframe tbody tr th {\n",
       "        vertical-align: top;\n",
       "    }\n",
       "\n",
       "    .dataframe thead th {\n",
       "        text-align: right;\n",
       "    }\n",
       "</style>\n",
       "<table border=\"1\" class=\"dataframe\">\n",
       "  <thead>\n",
       "    <tr style=\"text-align: right;\">\n",
       "      <th></th>\n",
       "      <th>Region</th>\n",
       "      <th>2012</th>\n",
       "      <th>2012_values</th>\n",
       "      <th>2013</th>\n",
       "      <th>2013_values</th>\n",
       "      <th>2014</th>\n",
       "      <th>2014_values</th>\n",
       "    </tr>\n",
       "  </thead>\n",
       "  <tbody>\n",
       "    <tr>\n",
       "      <td>0</td>\n",
       "      <td>SUL</td>\n",
       "      <td>13.855209</td>\n",
       "      <td>211414</td>\n",
       "      <td>13.893711</td>\n",
       "      <td>227280</td>\n",
       "      <td>13.415808</td>\n",
       "      <td>235897</td>\n",
       "    </tr>\n",
       "    <tr>\n",
       "      <td>1</td>\n",
       "      <td>NORTE</td>\n",
       "      <td>9.174896</td>\n",
       "      <td>139998</td>\n",
       "      <td>9.219622</td>\n",
       "      <td>150819</td>\n",
       "      <td>9.028175</td>\n",
       "      <td>158747</td>\n",
       "    </tr>\n",
       "    <tr>\n",
       "      <td>2</td>\n",
       "      <td>NORDESTE</td>\n",
       "      <td>26.839642</td>\n",
       "      <td>409541</td>\n",
       "      <td>27.493202</td>\n",
       "      <td>449747</td>\n",
       "      <td>26.701836</td>\n",
       "      <td>469512</td>\n",
       "    </tr>\n",
       "    <tr>\n",
       "      <td>3</td>\n",
       "      <td>CENTROOESTE</td>\n",
       "      <td>8.539919</td>\n",
       "      <td>130309</td>\n",
       "      <td>8.366548</td>\n",
       "      <td>136864</td>\n",
       "      <td>11.502595</td>\n",
       "      <td>202256</td>\n",
       "    </tr>\n",
       "    <tr>\n",
       "      <td>4</td>\n",
       "      <td>SUDESTE</td>\n",
       "      <td>41.590334</td>\n",
       "      <td>634619</td>\n",
       "      <td>41.026917</td>\n",
       "      <td>671138</td>\n",
       "      <td>39.351586</td>\n",
       "      <td>691939</td>\n",
       "    </tr>\n",
       "  </tbody>\n",
       "</table>\n",
       "</div>"
      ],
      "text/plain": [
       "        Region       2012  2012_values       2013  2013_values       2014  \\\n",
       "0          SUL  13.855209       211414  13.893711       227280  13.415808   \n",
       "1        NORTE   9.174896       139998   9.219622       150819   9.028175   \n",
       "2     NORDESTE  26.839642       409541  27.493202       449747  26.701836   \n",
       "3  CENTROOESTE   8.539919       130309   8.366548       136864  11.502595   \n",
       "4      SUDESTE  41.590334       634619  41.026917       671138  39.351586   \n",
       "\n",
       "   2014_values  \n",
       "0       235897  \n",
       "1       158747  \n",
       "2       469512  \n",
       "3       202256  \n",
       "4       691939  "
      ]
     },
     "execution_count": 23,
     "metadata": {},
     "output_type": "execute_result"
    }
   ],
   "source": [
    "csv_input = pd.read_csv('results_for_region.csv')\n",
    "csv_input['2014'] = auxPercent\n",
    "csv_input['2014_values'] = auxValues\n",
    "csv_input.head()"
   ]
  },
  {
   "cell_type": "code",
   "execution_count": 24,
   "metadata": {},
   "outputs": [],
   "source": [
    "export_csv = csv_input.to_csv (r'results_for_region.csv', index = None, header=True)"
   ]
  }
 ],
 "metadata": {
  "kernelspec": {
   "display_name": "Python 3",
   "language": "python",
   "name": "python3"
  },
  "language_info": {
   "codemirror_mode": {
    "name": "ipython",
    "version": 3
   },
   "file_extension": ".py",
   "mimetype": "text/x-python",
   "name": "python",
   "nbconvert_exporter": "python",
   "pygments_lexer": "ipython3",
   "version": "3.7.4"
  }
 },
 "nbformat": 4,
 "nbformat_minor": 2
}
