{
 "cells": [
  {
   "cell_type": "code",
   "execution_count": 1,
   "metadata": {},
   "outputs": [],
   "source": [
    "import pandas as pd"
   ]
  },
  {
   "cell_type": "code",
   "execution_count": 2,
   "metadata": {},
   "outputs": [],
   "source": [
    "import numpy as np"
   ]
  },
  {
   "cell_type": "code",
   "execution_count": 3,
   "metadata": {},
   "outputs": [],
   "source": [
    "df = pd.read_csv('microdados_enem_2016.csv', encoding='iso-8859-1', sep = ';')"
   ]
  },
  {
   "cell_type": "code",
   "execution_count": 4,
   "metadata": {},
   "outputs": [
    {
     "data": {
      "text/html": [
       "<div>\n",
       "<style scoped>\n",
       "    .dataframe tbody tr th:only-of-type {\n",
       "        vertical-align: middle;\n",
       "    }\n",
       "\n",
       "    .dataframe tbody tr th {\n",
       "        vertical-align: top;\n",
       "    }\n",
       "\n",
       "    .dataframe thead th {\n",
       "        text-align: right;\n",
       "    }\n",
       "</style>\n",
       "<table border=\"1\" class=\"dataframe\">\n",
       "  <thead>\n",
       "    <tr style=\"text-align: right;\">\n",
       "      <th></th>\n",
       "      <th>NU_INSCRICAO</th>\n",
       "      <th>NU_ANO</th>\n",
       "      <th>CO_MUNICIPIO_RESIDENCIA</th>\n",
       "      <th>NO_MUNICIPIO_RESIDENCIA</th>\n",
       "      <th>CO_UF_RESIDENCIA</th>\n",
       "      <th>SG_UF_RESIDENCIA</th>\n",
       "      <th>NU_IDADE</th>\n",
       "      <th>TP_SEXO</th>\n",
       "      <th>TP_ESTADO_CIVIL</th>\n",
       "      <th>TP_COR_RACA</th>\n",
       "      <th>...</th>\n",
       "      <th>Q041</th>\n",
       "      <th>Q042</th>\n",
       "      <th>Q043</th>\n",
       "      <th>Q044</th>\n",
       "      <th>Q045</th>\n",
       "      <th>Q046</th>\n",
       "      <th>Q047</th>\n",
       "      <th>Q048</th>\n",
       "      <th>Q049</th>\n",
       "      <th>Q050</th>\n",
       "    </tr>\n",
       "  </thead>\n",
       "  <tbody>\n",
       "    <tr>\n",
       "      <td>0</td>\n",
       "      <td>160000301384</td>\n",
       "      <td>2016</td>\n",
       "      <td>2507507</td>\n",
       "      <td>João Pessoa</td>\n",
       "      <td>25</td>\n",
       "      <td>PB</td>\n",
       "      <td>23.0</td>\n",
       "      <td>M</td>\n",
       "      <td>0.0</td>\n",
       "      <td>3</td>\n",
       "      <td>...</td>\n",
       "      <td>NaN</td>\n",
       "      <td>C</td>\n",
       "      <td>A</td>\n",
       "      <td>A</td>\n",
       "      <td>A</td>\n",
       "      <td>A</td>\n",
       "      <td>D</td>\n",
       "      <td>A</td>\n",
       "      <td>A</td>\n",
       "      <td>A</td>\n",
       "    </tr>\n",
       "    <tr>\n",
       "      <td>1</td>\n",
       "      <td>160000000001</td>\n",
       "      <td>2016</td>\n",
       "      <td>4128708</td>\n",
       "      <td>Vitorino</td>\n",
       "      <td>41</td>\n",
       "      <td>PR</td>\n",
       "      <td>20.0</td>\n",
       "      <td>M</td>\n",
       "      <td>0.0</td>\n",
       "      <td>1</td>\n",
       "      <td>...</td>\n",
       "      <td>NaN</td>\n",
       "      <td>A</td>\n",
       "      <td>A</td>\n",
       "      <td>A</td>\n",
       "      <td>A</td>\n",
       "      <td>A</td>\n",
       "      <td>D</td>\n",
       "      <td>A</td>\n",
       "      <td>A</td>\n",
       "      <td>C</td>\n",
       "    </tr>\n",
       "    <tr>\n",
       "      <td>2</td>\n",
       "      <td>160000000002</td>\n",
       "      <td>2016</td>\n",
       "      <td>2927408</td>\n",
       "      <td>Salvador</td>\n",
       "      <td>29</td>\n",
       "      <td>BA</td>\n",
       "      <td>21.0</td>\n",
       "      <td>M</td>\n",
       "      <td>0.0</td>\n",
       "      <td>3</td>\n",
       "      <td>...</td>\n",
       "      <td>NaN</td>\n",
       "      <td>B</td>\n",
       "      <td>A</td>\n",
       "      <td>B</td>\n",
       "      <td>A</td>\n",
       "      <td>A</td>\n",
       "      <td>A</td>\n",
       "      <td>D</td>\n",
       "      <td>A</td>\n",
       "      <td>C</td>\n",
       "    </tr>\n",
       "    <tr>\n",
       "      <td>3</td>\n",
       "      <td>160000000003</td>\n",
       "      <td>2016</td>\n",
       "      <td>1501402</td>\n",
       "      <td>Belém</td>\n",
       "      <td>15</td>\n",
       "      <td>PA</td>\n",
       "      <td>17.0</td>\n",
       "      <td>M</td>\n",
       "      <td>0.0</td>\n",
       "      <td>1</td>\n",
       "      <td>...</td>\n",
       "      <td>NaN</td>\n",
       "      <td>D</td>\n",
       "      <td>A</td>\n",
       "      <td>A</td>\n",
       "      <td>A</td>\n",
       "      <td>A</td>\n",
       "      <td>E</td>\n",
       "      <td>A</td>\n",
       "      <td>A</td>\n",
       "      <td>A</td>\n",
       "    </tr>\n",
       "    <tr>\n",
       "      <td>4</td>\n",
       "      <td>160000000004</td>\n",
       "      <td>2016</td>\n",
       "      <td>5300108</td>\n",
       "      <td>Brasília</td>\n",
       "      <td>53</td>\n",
       "      <td>DF</td>\n",
       "      <td>36.0</td>\n",
       "      <td>F</td>\n",
       "      <td>2.0</td>\n",
       "      <td>1</td>\n",
       "      <td>...</td>\n",
       "      <td>NaN</td>\n",
       "      <td>A</td>\n",
       "      <td>A</td>\n",
       "      <td>A</td>\n",
       "      <td>A</td>\n",
       "      <td>A</td>\n",
       "      <td>A</td>\n",
       "      <td>A</td>\n",
       "      <td>A</td>\n",
       "      <td>A</td>\n",
       "    </tr>\n",
       "  </tbody>\n",
       "</table>\n",
       "<p>5 rows × 166 columns</p>\n",
       "</div>"
      ],
      "text/plain": [
       "   NU_INSCRICAO  NU_ANO  CO_MUNICIPIO_RESIDENCIA NO_MUNICIPIO_RESIDENCIA  \\\n",
       "0  160000301384    2016                  2507507             João Pessoa   \n",
       "1  160000000001    2016                  4128708                Vitorino   \n",
       "2  160000000002    2016                  2927408                Salvador   \n",
       "3  160000000003    2016                  1501402                   Belém   \n",
       "4  160000000004    2016                  5300108                Brasília   \n",
       "\n",
       "   CO_UF_RESIDENCIA SG_UF_RESIDENCIA  NU_IDADE TP_SEXO  TP_ESTADO_CIVIL  \\\n",
       "0                25               PB      23.0       M              0.0   \n",
       "1                41               PR      20.0       M              0.0   \n",
       "2                29               BA      21.0       M              0.0   \n",
       "3                15               PA      17.0       M              0.0   \n",
       "4                53               DF      36.0       F              2.0   \n",
       "\n",
       "   TP_COR_RACA  ...  Q041  Q042 Q043  Q044 Q045  Q046  Q047  Q048  Q049  Q050  \n",
       "0            3  ...   NaN     C    A     A    A     A     D     A     A     A  \n",
       "1            1  ...   NaN     A    A     A    A     A     D     A     A     C  \n",
       "2            3  ...   NaN     B    A     B    A     A     A     D     A     C  \n",
       "3            1  ...   NaN     D    A     A    A     A     E     A     A     A  \n",
       "4            1  ...   NaN     A    A     A    A     A     A     A     A     A  \n",
       "\n",
       "[5 rows x 166 columns]"
      ]
     },
     "execution_count": 4,
     "metadata": {},
     "output_type": "execute_result"
    }
   ],
   "source": [
    "df.head()"
   ]
  },
  {
   "cell_type": "code",
   "execution_count": 5,
   "metadata": {},
   "outputs": [],
   "source": [
    "totalGlobal = df.shape[0]"
   ]
  },
  {
   "cell_type": "code",
   "execution_count": 6,
   "metadata": {},
   "outputs": [],
   "source": [
    "df = df[np.isfinite(df['TP_DEPENDENCIA_ADM_ESC'])]"
   ]
  },
  {
   "cell_type": "code",
   "execution_count": 7,
   "metadata": {},
   "outputs": [
    {
     "data": {
      "text/plain": [
       "(1881282, 166)"
      ]
     },
     "execution_count": 7,
     "metadata": {},
     "output_type": "execute_result"
    }
   ],
   "source": [
    "df.shape"
   ]
  },
  {
   "cell_type": "markdown",
   "metadata": {},
   "source": [
    "## Values NaN"
   ]
  },
  {
   "cell_type": "code",
   "execution_count": 8,
   "metadata": {},
   "outputs": [
    {
     "name": "stdout",
     "output_type": "stream",
     "text": [
      "NU_IDADE => 42\n",
      "TP_ESTADO_CIVIL => 44882\n",
      "CO_MUNICIPIO_NASCIMENTO => 102215\n",
      "NO_MUNICIPIO_NASCIMENTO => 102215\n",
      "CO_UF_NASCIMENTO => 102215\n",
      "SG_UF_NASCIMENTO => 102215\n",
      "TP_ENSINO => 22\n",
      "TP_SIT_FUNC_ESC => 39\n",
      "NO_ENTIDADE_CERTIFICACAO => 1579649\n",
      "CO_UF_ENTIDADE_CERTIFICACAO => 1579649\n",
      "SG_UF_ENTIDADE_CERTIFICACAO => 1579649\n",
      "TP_PRESENCA_CN => 51\n",
      "TP_PRESENCA_CH => 51\n",
      "TP_PRESENCA_LC => 51\n",
      "TP_PRESENCA_MT => 51\n",
      "CO_PROVA_CN => 332629\n",
      "CO_PROVA_CH => 332629\n",
      "CO_PROVA_LC => 357042\n",
      "CO_PROVA_MT => 357042\n",
      "NU_NOTA_CN => 332629\n",
      "NU_NOTA_CH => 332629\n",
      "NU_NOTA_LC => 357042\n",
      "NU_NOTA_MT => 357042\n",
      "TX_RESPOSTAS_CN => 332629\n",
      "TX_RESPOSTAS_CH => 332629\n",
      "TX_RESPOSTAS_LC => 357042\n",
      "TX_RESPOSTAS_MT => 357042\n",
      "TX_GABARITO_CN => 332629\n",
      "TX_GABARITO_CH => 332629\n",
      "TX_GABARITO_LC => 357042\n",
      "TX_GABARITO_MT => 357042\n",
      "TP_STATUS_REDACAO => 357042\n",
      "NU_NOTA_COMP1 => 357042\n",
      "NU_NOTA_COMP2 => 357042\n",
      "NU_NOTA_COMP3 => 357042\n",
      "NU_NOTA_COMP4 => 357042\n",
      "NU_NOTA_COMP5 => 357042\n",
      "NU_NOTA_REDACAO => 357042\n",
      "Q001 => 2\n",
      "Q002 => 2\n",
      "Q003 => 2\n",
      "Q004 => 2\n",
      "Q005 => 2\n",
      "Q006 => 2\n",
      "Q007 => 2\n",
      "Q008 => 2\n",
      "Q009 => 2\n",
      "Q010 => 2\n",
      "Q011 => 2\n",
      "Q012 => 2\n",
      "Q013 => 2\n",
      "Q014 => 2\n",
      "Q015 => 2\n",
      "Q016 => 2\n",
      "Q017 => 2\n",
      "Q018 => 2\n",
      "Q019 => 2\n",
      "Q020 => 2\n",
      "Q021 => 2\n",
      "Q022 => 2\n",
      "Q023 => 2\n",
      "Q024 => 2\n",
      "Q025 => 2\n",
      "Q026 => 2\n",
      "Q027 => 1277789\n",
      "Q028 => 1277849\n",
      "Q029 => 1277886\n",
      "Q030 => 1277909\n",
      "Q031 => 1277911\n",
      "Q032 => 1277924\n",
      "Q033 => 1277927\n",
      "Q034 => 2\n",
      "Q035 => 2\n",
      "Q036 => 2\n",
      "Q037 => 2\n",
      "Q038 => 2\n",
      "Q039 => 2\n",
      "Q040 => 2\n",
      "Q041 => 1581846\n",
      "Q042 => 2\n",
      "Q043 => 2\n",
      "Q044 => 2\n",
      "Q045 => 2\n",
      "Q046 => 2\n",
      "Q047 => 2\n",
      "Q048 => 2\n",
      "Q049 => 2\n",
      "Q050 => 2\n",
      "schools_without_null:  1881282\n"
     ]
    }
   ],
   "source": [
    "nullvalues = (df.isnull().sum())\n",
    "total_size = df.shape[0]\n",
    "schools_without_null = 0\n",
    "columns = list(df)\n",
    "for idx, col in enumerate(columns):\n",
    "    if col == 'TP_DEPENDENCIA_ADM_ESC':\n",
    "        schools_without_null = total_size - nullvalues[idx]\n",
    "    if nullvalues[idx] > 0:\n",
    "        print(col + ' => '+str(nullvalues[idx]))\n",
    "print('schools_without_null: ', schools_without_null)"
   ]
  },
  {
   "cell_type": "markdown",
   "metadata": {},
   "source": [
    "## Porcentage of available data"
   ]
  },
  {
   "cell_type": "code",
   "execution_count": 9,
   "metadata": {},
   "outputs": [
    {
     "name": "stdout",
     "output_type": "stream",
     "text": [
      "21.80598089776406\n"
     ]
    }
   ],
   "source": [
    "# total = df.shape[0]\n",
    "\n",
    "porcentage = (schools_without_null * 100) / totalGlobal\n",
    "print(porcentage)"
   ]
  },
  {
   "cell_type": "code",
   "execution_count": 10,
   "metadata": {},
   "outputs": [
    {
     "data": {
      "text/plain": [
       "(1881282, 166)"
      ]
     },
     "execution_count": 10,
     "metadata": {},
     "output_type": "execute_result"
    }
   ],
   "source": [
    "df.shape"
   ]
  },
  {
   "cell_type": "markdown",
   "metadata": {},
   "source": [
    "## Tipo de Escola"
   ]
  },
  {
   "cell_type": "code",
   "execution_count": 11,
   "metadata": {},
   "outputs": [
    {
     "data": {
      "text/plain": [
       "2.0    1501527\n",
       "3.0      21634\n",
       "4.0     319380\n",
       "1.0      38741\n",
       "Name: TP_DEPENDENCIA_ADM_ESC, dtype: int64"
      ]
     },
     "execution_count": 11,
     "metadata": {},
     "output_type": "execute_result"
    }
   ],
   "source": [
    "df['TP_DEPENDENCIA_ADM_ESC'].value_counts(sort = False)"
   ]
  },
  {
   "cell_type": "code",
   "execution_count": 13,
   "metadata": {},
   "outputs": [
    {
     "name": "stdout",
     "output_type": "stream",
     "text": [
      "2.0 79.81403107030206\n",
      "3.0 1.1499605056551863\n",
      "4.0 16.97672119331392\n",
      "1.0 2.059287230728833\n",
      "**************************************************\n",
      "1.0 2.059287230728833 38741\n",
      "2.0 79.81403107030206 1501527\n",
      "3.0 1.1499605056551863 21634\n",
      "4.0 16.97672119331392 319380\n"
     ]
    }
   ],
   "source": [
    "a = df['TP_DEPENDENCIA_ADM_ESC'].value_counts(sort = False).to_dict()\n",
    "\n",
    "for idx, value in a.items():\n",
    "    x = (value * 100) / schools_without_null\n",
    "    print(idx, x)\n",
    "\n",
    "print('*'*50)\n",
    "\n",
    "values_percent_to_save = []\n",
    "values_to_save = []\n",
    "for idx, value in sorted(a.items()):\n",
    "    x = (value * 100) / schools_without_null\n",
    "    values_percent_to_save.append(x)\n",
    "    values_to_save.append(value)\n",
    "    print(idx, x, value)\n"
   ]
  },
  {
   "cell_type": "code",
   "execution_count": 14,
   "metadata": {},
   "outputs": [
    {
     "data": {
      "text/html": [
       "<div>\n",
       "<style scoped>\n",
       "    .dataframe tbody tr th:only-of-type {\n",
       "        vertical-align: middle;\n",
       "    }\n",
       "\n",
       "    .dataframe tbody tr th {\n",
       "        vertical-align: top;\n",
       "    }\n",
       "\n",
       "    .dataframe thead th {\n",
       "        text-align: right;\n",
       "    }\n",
       "</style>\n",
       "<table border=\"1\" class=\"dataframe\">\n",
       "  <thead>\n",
       "    <tr style=\"text-align: right;\">\n",
       "      <th></th>\n",
       "      <th>2012</th>\n",
       "      <th>2012_values</th>\n",
       "      <th>2013</th>\n",
       "      <th>2013_values</th>\n",
       "      <th>2014</th>\n",
       "      <th>2014_values</th>\n",
       "      <th>2015</th>\n",
       "      <th>2015_values</th>\n",
       "      <th>2016</th>\n",
       "      <th>2016_values</th>\n",
       "    </tr>\n",
       "  </thead>\n",
       "  <tbody>\n",
       "    <tr>\n",
       "      <td>0</td>\n",
       "      <td>1.720580</td>\n",
       "      <td>26254</td>\n",
       "      <td>1.796744</td>\n",
       "      <td>29392</td>\n",
       "      <td>1.834787</td>\n",
       "      <td>32262</td>\n",
       "      <td>2.073175</td>\n",
       "      <td>34192</td>\n",
       "      <td>2.059287</td>\n",
       "      <td>38741</td>\n",
       "    </tr>\n",
       "    <tr>\n",
       "      <td>1</td>\n",
       "      <td>77.525049</td>\n",
       "      <td>1182940</td>\n",
       "      <td>77.938965</td>\n",
       "      <td>1274963</td>\n",
       "      <td>75.430275</td>\n",
       "      <td>1326329</td>\n",
       "      <td>78.433635</td>\n",
       "      <td>1293573</td>\n",
       "      <td>79.814031</td>\n",
       "      <td>1501527</td>\n",
       "    </tr>\n",
       "    <tr>\n",
       "      <td>2</td>\n",
       "      <td>1.185938</td>\n",
       "      <td>18096</td>\n",
       "      <td>1.150657</td>\n",
       "      <td>18823</td>\n",
       "      <td>1.046833</td>\n",
       "      <td>18407</td>\n",
       "      <td>1.038588</td>\n",
       "      <td>17129</td>\n",
       "      <td>1.149961</td>\n",
       "      <td>21634</td>\n",
       "    </tr>\n",
       "    <tr>\n",
       "      <td>3</td>\n",
       "      <td>19.568433</td>\n",
       "      <td>298591</td>\n",
       "      <td>19.113634</td>\n",
       "      <td>312670</td>\n",
       "      <td>21.688104</td>\n",
       "      <td>381353</td>\n",
       "      <td>18.454602</td>\n",
       "      <td>304364</td>\n",
       "      <td>16.976721</td>\n",
       "      <td>319380</td>\n",
       "    </tr>\n",
       "  </tbody>\n",
       "</table>\n",
       "</div>"
      ],
      "text/plain": [
       "        2012  2012_values       2013  2013_values       2014  2014_values  \\\n",
       "0   1.720580        26254   1.796744        29392   1.834787        32262   \n",
       "1  77.525049      1182940  77.938965      1274963  75.430275      1326329   \n",
       "2   1.185938        18096   1.150657        18823   1.046833        18407   \n",
       "3  19.568433       298591  19.113634       312670  21.688104       381353   \n",
       "\n",
       "        2015  2015_values       2016  2016_values  \n",
       "0   2.073175        34192   2.059287        38741  \n",
       "1  78.433635      1293573  79.814031      1501527  \n",
       "2   1.038588        17129   1.149961        21634  \n",
       "3  18.454602       304364  16.976721       319380  "
      ]
     },
     "execution_count": 14,
     "metadata": {},
     "output_type": "execute_result"
    }
   ],
   "source": [
    "csv_input = pd.read_csv('results_for_school.csv')\n",
    "csv_input['2016'] = values_percent_to_save\n",
    "csv_input['2016_values'] = values_to_save\n",
    "csv_input.head()"
   ]
  },
  {
   "cell_type": "code",
   "execution_count": 15,
   "metadata": {},
   "outputs": [],
   "source": [
    "export_csv = csv_input.to_csv (r'results_for_school.csv', index = None, header=True)"
   ]
  },
  {
   "cell_type": "markdown",
   "metadata": {},
   "source": [
    "## Alumno con necesidades especiales"
   ]
  },
  {
   "cell_type": "code",
   "execution_count": 16,
   "metadata": {},
   "outputs": [
    {
     "data": {
      "text/plain": [
       "(1881282, 166)"
      ]
     },
     "execution_count": 16,
     "metadata": {},
     "output_type": "execute_result"
    }
   ],
   "source": [
    "df.shape"
   ]
  },
  {
   "cell_type": "code",
   "execution_count": 17,
   "metadata": {},
   "outputs": [
    {
     "name": "stdout",
     "output_type": "stream",
     "text": [
      "total_necesidades:  28812\n",
      "1.531508832806565\n"
     ]
    }
   ],
   "source": [
    "array = ['IN_BAIXA_VISAO', 'IN_CEGUEIRA', 'IN_SURDEZ', 'IN_DEFICIENCIA_AUDITIVA', 'IN_SURDO_CEGUEIRA', 'IN_DEFICIENCIA_FISICA', 'IN_DEFICIENCIA_MENTAL', 'IN_DEFICIT_ATENCAO', 'IN_DISLEXIA', 'IN_GESTANTE', 'IN_LACTANTE', 'IN_IDOSO', 'IN_DISCALCULIA', 'IN_AUTISMO', 'IN_VISAO_MONOCULAR', 'IN_SABATISTA', 'IN_OUTRA_DEF']\n",
    "total_necesidades = 0\n",
    "for item in array:\n",
    "    try:\n",
    "        aux = df[item].value_counts().to_dict()\n",
    "        total_necesidades += aux[1]\n",
    "    except:\n",
    "        print('There is not elements on: ', item)\n",
    "print('total_necesidades: ', total_necesidades)\n",
    "\n",
    "aux = (total_necesidades * 100)/df.shape[0]\n",
    "print(aux)"
   ]
  },
  {
   "cell_type": "code",
   "execution_count": 28,
   "metadata": {},
   "outputs": [
    {
     "data": {
      "text/html": [
       "<div>\n",
       "<style scoped>\n",
       "    .dataframe tbody tr th:only-of-type {\n",
       "        vertical-align: middle;\n",
       "    }\n",
       "\n",
       "    .dataframe tbody tr th {\n",
       "        vertical-align: top;\n",
       "    }\n",
       "\n",
       "    .dataframe thead th {\n",
       "        text-align: right;\n",
       "    }\n",
       "</style>\n",
       "<table border=\"1\" class=\"dataframe\">\n",
       "  <thead>\n",
       "    <tr style=\"text-align: right;\">\n",
       "      <th></th>\n",
       "      <th>Region</th>\n",
       "      <th>2012</th>\n",
       "      <th>2012_values</th>\n",
       "      <th>2013</th>\n",
       "      <th>2013_values</th>\n",
       "      <th>2014</th>\n",
       "      <th>2014_values</th>\n",
       "      <th>2015</th>\n",
       "      <th>2015_values</th>\n",
       "      <th>2016</th>\n",
       "      <th>2016_values</th>\n",
       "    </tr>\n",
       "  </thead>\n",
       "  <tbody>\n",
       "    <tr>\n",
       "      <td>0</td>\n",
       "      <td>SUL</td>\n",
       "      <td>13.855209</td>\n",
       "      <td>211414</td>\n",
       "      <td>13.893711</td>\n",
       "      <td>227280</td>\n",
       "      <td>13.415808</td>\n",
       "      <td>235897</td>\n",
       "      <td>13.169619</td>\n",
       "      <td>217201</td>\n",
       "      <td>40.337812</td>\n",
       "      <td>28812</td>\n",
       "    </tr>\n",
       "    <tr>\n",
       "      <td>1</td>\n",
       "      <td>NORTE</td>\n",
       "      <td>9.174896</td>\n",
       "      <td>139998</td>\n",
       "      <td>9.219622</td>\n",
       "      <td>150819</td>\n",
       "      <td>9.028175</td>\n",
       "      <td>158747</td>\n",
       "      <td>8.914857</td>\n",
       "      <td>147029</td>\n",
       "      <td>40.337812</td>\n",
       "      <td>28812</td>\n",
       "    </tr>\n",
       "    <tr>\n",
       "      <td>2</td>\n",
       "      <td>NORDESTE</td>\n",
       "      <td>26.839642</td>\n",
       "      <td>409541</td>\n",
       "      <td>27.493202</td>\n",
       "      <td>449747</td>\n",
       "      <td>26.701836</td>\n",
       "      <td>469512</td>\n",
       "      <td>27.485754</td>\n",
       "      <td>453311</td>\n",
       "      <td>40.337812</td>\n",
       "      <td>28812</td>\n",
       "    </tr>\n",
       "    <tr>\n",
       "      <td>3</td>\n",
       "      <td>CENTROOESTE</td>\n",
       "      <td>8.539919</td>\n",
       "      <td>130309</td>\n",
       "      <td>8.366548</td>\n",
       "      <td>136864</td>\n",
       "      <td>11.502595</td>\n",
       "      <td>202256</td>\n",
       "      <td>8.665473</td>\n",
       "      <td>142916</td>\n",
       "      <td>40.337812</td>\n",
       "      <td>28812</td>\n",
       "    </tr>\n",
       "    <tr>\n",
       "      <td>4</td>\n",
       "      <td>SUDESTE</td>\n",
       "      <td>41.590334</td>\n",
       "      <td>634619</td>\n",
       "      <td>41.026917</td>\n",
       "      <td>671138</td>\n",
       "      <td>39.351586</td>\n",
       "      <td>691939</td>\n",
       "      <td>41.764296</td>\n",
       "      <td>688801</td>\n",
       "      <td>40.337812</td>\n",
       "      <td>28812</td>\n",
       "    </tr>\n",
       "  </tbody>\n",
       "</table>\n",
       "</div>"
      ],
      "text/plain": [
       "        Region       2012  2012_values       2013  2013_values       2014  \\\n",
       "0          SUL  13.855209       211414  13.893711       227280  13.415808   \n",
       "1        NORTE   9.174896       139998   9.219622       150819   9.028175   \n",
       "2     NORDESTE  26.839642       409541  27.493202       449747  26.701836   \n",
       "3  CENTROOESTE   8.539919       130309   8.366548       136864  11.502595   \n",
       "4      SUDESTE  41.590334       634619  41.026917       671138  39.351586   \n",
       "\n",
       "   2014_values       2015  2015_values       2016  2016_values  \n",
       "0       235897  13.169619       217201  40.337812        28812  \n",
       "1       158747   8.914857       147029  40.337812        28812  \n",
       "2       469512  27.485754       453311  40.337812        28812  \n",
       "3       202256   8.665473       142916  40.337812        28812  \n",
       "4       691939  41.764296       688801  40.337812        28812  "
      ]
     },
     "execution_count": 28,
     "metadata": {},
     "output_type": "execute_result"
    }
   ],
   "source": [
    "csv_input = pd.read_csv('results_special_needs.csv')\n",
    "csv_input['2016'] = aux\n",
    "csv_input['2016_values'] = total_necesidades\n",
    "csv_input.head()"
   ]
  },
  {
   "cell_type": "code",
   "execution_count": 29,
   "metadata": {},
   "outputs": [],
   "source": [
    "export_csv = csv_input.to_csv (r'results_special_needs.csv', index = None, header=True)"
   ]
  },
  {
   "cell_type": "markdown",
   "metadata": {},
   "source": [
    "## Aluno por regiao"
   ]
  },
  {
   "cell_type": "code",
   "execution_count": 20,
   "metadata": {},
   "outputs": [
    {
     "data": {
      "text/plain": [
       "SP    409055\n",
       "MG    182002\n",
       "RJ    128396\n",
       "CE    123416\n",
       "PR    108488\n",
       "BA    108269\n",
       "RS     87518\n",
       "PE     84290\n",
       "PA     78989\n",
       "SC     64735\n",
       "GO     64197\n",
       "MA     62509\n",
       "AM     41503\n",
       "ES     39415\n",
       "DF     35310\n",
       "PI     35112\n",
       "PB     33240\n",
       "MT     32686\n",
       "RN     28616\n",
       "MS     26843\n",
       "AL     25597\n",
       "SE     19311\n",
       "RO     18927\n",
       "TO     16404\n",
       "AP     11172\n",
       "AC     10100\n",
       "RR      5182\n",
       "Name: SG_UF_ESC, dtype: int64"
      ]
     },
     "execution_count": 20,
     "metadata": {},
     "output_type": "execute_result"
    }
   ],
   "source": [
    "array_kinds_regions = ['NU_NOTA_CN', 'NU_NOTA_CH', 'NU_NOTA_LC', 'NU_NOTA_MT']\n",
    "\n",
    "df['SG_UF_ESC'].value_counts()"
   ]
  },
  {
   "cell_type": "code",
   "execution_count": 21,
   "metadata": {},
   "outputs": [
    {
     "name": "stdout",
     "output_type": "stream",
     "text": [
      "260741\n",
      "182277\n",
      "520360\n",
      "159036\n",
      "758868\n"
     ]
    }
   ],
   "source": [
    "df_SUL = df.loc[df['SG_UF_ESC'].isin(['RS','SC','PR'])]\n",
    "df_NORTE = df.loc[df['SG_UF_ESC'].isin(['AC','AP','AM', 'PA', 'RO', 'RR', 'TO'])]\n",
    "df_NORDESTE = df.loc[df['SG_UF_ESC'].isin(['AL','BA','CE', 'MA', 'PB', 'PI', 'PE', 'RN', 'SE'])]\n",
    "df_CENTROOESTE = df.loc[df['SG_UF_ESC'].isin(['DF','GO','MT', 'MS'])]\n",
    "df_SUDESTE = df.loc[df['SG_UF_ESC'].isin(['ES','MG','RJ', 'SP'])]\n",
    "\n",
    "\n",
    "print(df_SUL.shape[0])\n",
    "print(df_NORTE.shape[0])\n",
    "print(df_NORDESTE.shape[0])\n",
    "print(df_CENTROOESTE.shape[0])\n",
    "print(df_SUDESTE.shape[0])\n"
   ]
  },
  {
   "cell_type": "code",
   "execution_count": 24,
   "metadata": {},
   "outputs": [
    {
     "name": "stdout",
     "output_type": "stream",
     "text": [
      "SUL:  13.859750957060132\n",
      "NORTE:  9.688978047948154\n",
      "NORDESTE:  27.65986173258448\n",
      "CENTROOESTE:  8.453597068382093\n",
      "SUDESTE:  40.33781219402514\n"
     ]
    }
   ],
   "source": [
    "total = df.shape[0]\n",
    "auxPercent = []\n",
    "auxValues = []\n",
    "auxSul =  (df_SUL.shape[0] * 100) / total\n",
    "print('SUL: ', auxSul)\n",
    "auxValues.append(df_SUL.shape[0])\n",
    "auxPercent.append(auxSul)\n",
    "\n",
    "auxNorte =  (df_NORTE.shape[0] * 100) / total\n",
    "print('NORTE: ', auxNorte)\n",
    "auxValues.append(df_NORTE.shape[0])\n",
    "auxPercent.append(auxNorte)\n",
    "\n",
    "auxNordeste =  (df_NORDESTE.shape[0] * 100) / total\n",
    "print('NORDESTE: ', auxNordeste)\n",
    "auxValues.append(df_NORDESTE.shape[0])\n",
    "auxPercent.append(auxNordeste)\n",
    "\n",
    "auxCentrooeste =  (df_CENTROOESTE.shape[0] * 100) / total\n",
    "print('CENTROOESTE: ', auxCentrooeste)\n",
    "auxValues.append(df_CENTROOESTE.shape[0])\n",
    "auxPercent.append(auxCentrooeste)\n",
    "\n",
    "auxSudeste =  (df_SUDESTE.shape[0] * 100) / total\n",
    "print('SUDESTE: ', auxSudeste)\n",
    "auxValues.append(df_SUDESTE.shape[0])\n",
    "auxPercent.append(auxSudeste)"
   ]
  },
  {
   "cell_type": "code",
   "execution_count": 25,
   "metadata": {},
   "outputs": [
    {
     "data": {
      "text/html": [
       "<div>\n",
       "<style scoped>\n",
       "    .dataframe tbody tr th:only-of-type {\n",
       "        vertical-align: middle;\n",
       "    }\n",
       "\n",
       "    .dataframe tbody tr th {\n",
       "        vertical-align: top;\n",
       "    }\n",
       "\n",
       "    .dataframe thead th {\n",
       "        text-align: right;\n",
       "    }\n",
       "</style>\n",
       "<table border=\"1\" class=\"dataframe\">\n",
       "  <thead>\n",
       "    <tr style=\"text-align: right;\">\n",
       "      <th></th>\n",
       "      <th>Region</th>\n",
       "      <th>2012</th>\n",
       "      <th>2012_values</th>\n",
       "      <th>2013</th>\n",
       "      <th>2013_values</th>\n",
       "      <th>2014</th>\n",
       "      <th>2014_values</th>\n",
       "      <th>2015</th>\n",
       "      <th>2015_values</th>\n",
       "      <th>2016</th>\n",
       "      <th>2016_values</th>\n",
       "    </tr>\n",
       "  </thead>\n",
       "  <tbody>\n",
       "    <tr>\n",
       "      <td>0</td>\n",
       "      <td>SUL</td>\n",
       "      <td>13.855209</td>\n",
       "      <td>211414</td>\n",
       "      <td>13.893711</td>\n",
       "      <td>227280</td>\n",
       "      <td>13.415808</td>\n",
       "      <td>235897</td>\n",
       "      <td>13.169619</td>\n",
       "      <td>217201</td>\n",
       "      <td>13.859751</td>\n",
       "      <td>260741</td>\n",
       "    </tr>\n",
       "    <tr>\n",
       "      <td>1</td>\n",
       "      <td>NORTE</td>\n",
       "      <td>9.174896</td>\n",
       "      <td>139998</td>\n",
       "      <td>9.219622</td>\n",
       "      <td>150819</td>\n",
       "      <td>9.028175</td>\n",
       "      <td>158747</td>\n",
       "      <td>8.914857</td>\n",
       "      <td>147029</td>\n",
       "      <td>9.688978</td>\n",
       "      <td>182277</td>\n",
       "    </tr>\n",
       "    <tr>\n",
       "      <td>2</td>\n",
       "      <td>NORDESTE</td>\n",
       "      <td>26.839642</td>\n",
       "      <td>409541</td>\n",
       "      <td>27.493202</td>\n",
       "      <td>449747</td>\n",
       "      <td>26.701836</td>\n",
       "      <td>469512</td>\n",
       "      <td>27.485754</td>\n",
       "      <td>453311</td>\n",
       "      <td>27.659862</td>\n",
       "      <td>520360</td>\n",
       "    </tr>\n",
       "    <tr>\n",
       "      <td>3</td>\n",
       "      <td>CENTROOESTE</td>\n",
       "      <td>8.539919</td>\n",
       "      <td>130309</td>\n",
       "      <td>8.366548</td>\n",
       "      <td>136864</td>\n",
       "      <td>11.502595</td>\n",
       "      <td>202256</td>\n",
       "      <td>8.665473</td>\n",
       "      <td>142916</td>\n",
       "      <td>8.453597</td>\n",
       "      <td>159036</td>\n",
       "    </tr>\n",
       "    <tr>\n",
       "      <td>4</td>\n",
       "      <td>SUDESTE</td>\n",
       "      <td>41.590334</td>\n",
       "      <td>634619</td>\n",
       "      <td>41.026917</td>\n",
       "      <td>671138</td>\n",
       "      <td>39.351586</td>\n",
       "      <td>691939</td>\n",
       "      <td>41.764296</td>\n",
       "      <td>688801</td>\n",
       "      <td>40.337812</td>\n",
       "      <td>758868</td>\n",
       "    </tr>\n",
       "  </tbody>\n",
       "</table>\n",
       "</div>"
      ],
      "text/plain": [
       "        Region       2012  2012_values       2013  2013_values       2014  \\\n",
       "0          SUL  13.855209       211414  13.893711       227280  13.415808   \n",
       "1        NORTE   9.174896       139998   9.219622       150819   9.028175   \n",
       "2     NORDESTE  26.839642       409541  27.493202       449747  26.701836   \n",
       "3  CENTROOESTE   8.539919       130309   8.366548       136864  11.502595   \n",
       "4      SUDESTE  41.590334       634619  41.026917       671138  39.351586   \n",
       "\n",
       "   2014_values       2015  2015_values       2016  2016_values  \n",
       "0       235897  13.169619       217201  13.859751       260741  \n",
       "1       158747   8.914857       147029   9.688978       182277  \n",
       "2       469512  27.485754       453311  27.659862       520360  \n",
       "3       202256   8.665473       142916   8.453597       159036  \n",
       "4       691939  41.764296       688801  40.337812       758868  "
      ]
     },
     "execution_count": 25,
     "metadata": {},
     "output_type": "execute_result"
    }
   ],
   "source": [
    "csv_input = pd.read_csv('results_for_region.csv')\n",
    "csv_input['2016'] = auxPercent\n",
    "csv_input['2016_values'] = auxValues\n",
    "csv_input.head()"
   ]
  },
  {
   "cell_type": "code",
   "execution_count": 26,
   "metadata": {},
   "outputs": [],
   "source": [
    "export_csv = csv_input.to_csv (r'results_for_region.csv', index = None, header=True)"
   ]
  }
 ],
 "metadata": {
  "kernelspec": {
   "display_name": "Python 3",
   "language": "python",
   "name": "python3"
  },
  "language_info": {
   "codemirror_mode": {
    "name": "ipython",
    "version": 3
   },
   "file_extension": ".py",
   "mimetype": "text/x-python",
   "name": "python",
   "nbconvert_exporter": "python",
   "pygments_lexer": "ipython3",
   "version": "3.7.4"
  }
 },
 "nbformat": 4,
 "nbformat_minor": 2
}
