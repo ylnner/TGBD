{
 "cells": [
  {
   "cell_type": "code",
   "execution_count": 1,
   "metadata": {},
   "outputs": [],
   "source": [
    "import pandas as pd"
   ]
  },
  {
   "cell_type": "code",
   "execution_count": 2,
   "metadata": {},
   "outputs": [],
   "source": [
    "import numpy as np"
   ]
  },
  {
   "cell_type": "code",
   "execution_count": 3,
   "metadata": {},
   "outputs": [],
   "source": [
    "df = pd.read_csv('MICRODADOS_ENEM_2017.csv', encoding='iso-8859-1', sep = ';')"
   ]
  },
  {
   "cell_type": "code",
   "execution_count": 4,
   "metadata": {},
   "outputs": [
    {
     "data": {
      "text/html": [
       "<div>\n",
       "<style scoped>\n",
       "    .dataframe tbody tr th:only-of-type {\n",
       "        vertical-align: middle;\n",
       "    }\n",
       "\n",
       "    .dataframe tbody tr th {\n",
       "        vertical-align: top;\n",
       "    }\n",
       "\n",
       "    .dataframe thead th {\n",
       "        text-align: right;\n",
       "    }\n",
       "</style>\n",
       "<table border=\"1\" class=\"dataframe\">\n",
       "  <thead>\n",
       "    <tr style=\"text-align: right;\">\n",
       "      <th></th>\n",
       "      <th>NU_INSCRICAO</th>\n",
       "      <th>NU_ANO</th>\n",
       "      <th>CO_MUNICIPIO_RESIDENCIA</th>\n",
       "      <th>NO_MUNICIPIO_RESIDENCIA</th>\n",
       "      <th>CO_UF_RESIDENCIA</th>\n",
       "      <th>SG_UF_RESIDENCIA</th>\n",
       "      <th>NU_IDADE</th>\n",
       "      <th>TP_SEXO</th>\n",
       "      <th>TP_ESTADO_CIVIL</th>\n",
       "      <th>TP_COR_RACA</th>\n",
       "      <th>...</th>\n",
       "      <th>Q018</th>\n",
       "      <th>Q019</th>\n",
       "      <th>Q020</th>\n",
       "      <th>Q021</th>\n",
       "      <th>Q022</th>\n",
       "      <th>Q023</th>\n",
       "      <th>Q024</th>\n",
       "      <th>Q025</th>\n",
       "      <th>Q026</th>\n",
       "      <th>Q027</th>\n",
       "    </tr>\n",
       "  </thead>\n",
       "  <tbody>\n",
       "    <tr>\n",
       "      <td>0</td>\n",
       "      <td>170003336736</td>\n",
       "      <td>2017</td>\n",
       "      <td>3503208</td>\n",
       "      <td>Araraquara</td>\n",
       "      <td>35</td>\n",
       "      <td>SP</td>\n",
       "      <td>29.0</td>\n",
       "      <td>F</td>\n",
       "      <td>0.0</td>\n",
       "      <td>1</td>\n",
       "      <td>...</td>\n",
       "      <td>A</td>\n",
       "      <td>C</td>\n",
       "      <td>B</td>\n",
       "      <td>B</td>\n",
       "      <td>C</td>\n",
       "      <td>B</td>\n",
       "      <td>B</td>\n",
       "      <td>B</td>\n",
       "      <td>A</td>\n",
       "      <td>A</td>\n",
       "    </tr>\n",
       "    <tr>\n",
       "      <td>1</td>\n",
       "      <td>170003333545</td>\n",
       "      <td>2017</td>\n",
       "      <td>5002902</td>\n",
       "      <td>Cassilândia</td>\n",
       "      <td>50</td>\n",
       "      <td>MS</td>\n",
       "      <td>22.0</td>\n",
       "      <td>F</td>\n",
       "      <td>0.0</td>\n",
       "      <td>1</td>\n",
       "      <td>...</td>\n",
       "      <td>A</td>\n",
       "      <td>B</td>\n",
       "      <td>A</td>\n",
       "      <td>A</td>\n",
       "      <td>C</td>\n",
       "      <td>B</td>\n",
       "      <td>A</td>\n",
       "      <td>A</td>\n",
       "      <td>A</td>\n",
       "      <td>A</td>\n",
       "    </tr>\n",
       "    <tr>\n",
       "      <td>2</td>\n",
       "      <td>170001663644</td>\n",
       "      <td>2017</td>\n",
       "      <td>3550308</td>\n",
       "      <td>São Paulo</td>\n",
       "      <td>35</td>\n",
       "      <td>SP</td>\n",
       "      <td>38.0</td>\n",
       "      <td>F</td>\n",
       "      <td>0.0</td>\n",
       "      <td>1</td>\n",
       "      <td>...</td>\n",
       "      <td>A</td>\n",
       "      <td>B</td>\n",
       "      <td>A</td>\n",
       "      <td>A</td>\n",
       "      <td>C</td>\n",
       "      <td>A</td>\n",
       "      <td>B</td>\n",
       "      <td>B</td>\n",
       "      <td>A</td>\n",
       "      <td>A</td>\n",
       "    </tr>\n",
       "    <tr>\n",
       "      <td>3</td>\n",
       "      <td>170001663645</td>\n",
       "      <td>2017</td>\n",
       "      <td>4209300</td>\n",
       "      <td>Lages</td>\n",
       "      <td>42</td>\n",
       "      <td>SC</td>\n",
       "      <td>35.0</td>\n",
       "      <td>F</td>\n",
       "      <td>0.0</td>\n",
       "      <td>1</td>\n",
       "      <td>...</td>\n",
       "      <td>B</td>\n",
       "      <td>C</td>\n",
       "      <td>A</td>\n",
       "      <td>B</td>\n",
       "      <td>D</td>\n",
       "      <td>A</td>\n",
       "      <td>B</td>\n",
       "      <td>B</td>\n",
       "      <td>A</td>\n",
       "      <td>A</td>\n",
       "    </tr>\n",
       "    <tr>\n",
       "      <td>4</td>\n",
       "      <td>170001663646</td>\n",
       "      <td>2017</td>\n",
       "      <td>2704302</td>\n",
       "      <td>Maceió</td>\n",
       "      <td>27</td>\n",
       "      <td>AL</td>\n",
       "      <td>40.0</td>\n",
       "      <td>M</td>\n",
       "      <td>0.0</td>\n",
       "      <td>3</td>\n",
       "      <td>...</td>\n",
       "      <td>A</td>\n",
       "      <td>B</td>\n",
       "      <td>B</td>\n",
       "      <td>A</td>\n",
       "      <td>C</td>\n",
       "      <td>A</td>\n",
       "      <td>C</td>\n",
       "      <td>B</td>\n",
       "      <td>A</td>\n",
       "      <td>A</td>\n",
       "    </tr>\n",
       "  </tbody>\n",
       "</table>\n",
       "<p>5 rows × 137 columns</p>\n",
       "</div>"
      ],
      "text/plain": [
       "   NU_INSCRICAO  NU_ANO  CO_MUNICIPIO_RESIDENCIA NO_MUNICIPIO_RESIDENCIA  \\\n",
       "0  170003336736    2017                  3503208              Araraquara   \n",
       "1  170003333545    2017                  5002902             Cassilândia   \n",
       "2  170001663644    2017                  3550308               São Paulo   \n",
       "3  170001663645    2017                  4209300                   Lages   \n",
       "4  170001663646    2017                  2704302                  Maceió   \n",
       "\n",
       "   CO_UF_RESIDENCIA SG_UF_RESIDENCIA  NU_IDADE TP_SEXO  TP_ESTADO_CIVIL  \\\n",
       "0                35               SP      29.0       F              0.0   \n",
       "1                50               MS      22.0       F              0.0   \n",
       "2                35               SP      38.0       F              0.0   \n",
       "3                42               SC      35.0       F              0.0   \n",
       "4                27               AL      40.0       M              0.0   \n",
       "\n",
       "   TP_COR_RACA  ...  Q018  Q019 Q020  Q021 Q022  Q023  Q024  Q025  Q026  Q027  \n",
       "0            1  ...     A     C    B     B    C     B     B     B     A     A  \n",
       "1            1  ...     A     B    A     A    C     B     A     A     A     A  \n",
       "2            1  ...     A     B    A     A    C     A     B     B     A     A  \n",
       "3            1  ...     B     C    A     B    D     A     B     B     A     A  \n",
       "4            3  ...     A     B    B     A    C     A     C     B     A     A  \n",
       "\n",
       "[5 rows x 137 columns]"
      ]
     },
     "execution_count": 4,
     "metadata": {},
     "output_type": "execute_result"
    }
   ],
   "source": [
    "df.head()"
   ]
  },
  {
   "cell_type": "code",
   "execution_count": 5,
   "metadata": {},
   "outputs": [],
   "source": [
    "totalGlobal = df.shape[0]"
   ]
  },
  {
   "cell_type": "code",
   "execution_count": 6,
   "metadata": {},
   "outputs": [],
   "source": [
    "df = df[np.isfinite(df['TP_DEPENDENCIA_ADM_ESC'])]"
   ]
  },
  {
   "cell_type": "code",
   "execution_count": 7,
   "metadata": {},
   "outputs": [
    {
     "data": {
      "text/plain": [
       "(1785914, 137)"
      ]
     },
     "execution_count": 7,
     "metadata": {},
     "output_type": "execute_result"
    }
   ],
   "source": [
    "df.shape"
   ]
  },
  {
   "cell_type": "markdown",
   "metadata": {},
   "source": [
    "## Values NaN"
   ]
  },
  {
   "cell_type": "code",
   "execution_count": 8,
   "metadata": {},
   "outputs": [
    {
     "name": "stdout",
     "output_type": "stream",
     "text": [
      "NU_IDADE => 44\n",
      "TP_ESTADO_CIVIL => 45006\n",
      "CO_MUNICIPIO_NASCIMENTO => 68878\n",
      "NO_MUNICIPIO_NASCIMENTO => 68878\n",
      "CO_UF_NASCIMENTO => 68878\n",
      "SG_UF_NASCIMENTO => 68878\n",
      "TP_ENSINO => 16\n",
      "TP_SIT_FUNC_ESC => 5955\n",
      "TP_PRESENCA_CN => 39\n",
      "TP_PRESENCA_CH => 39\n",
      "TP_PRESENCA_LC => 39\n",
      "TP_PRESENCA_MT => 39\n",
      "CO_PROVA_CN => 397862\n",
      "CO_PROVA_CH => 327457\n",
      "CO_PROVA_LC => 327457\n",
      "CO_PROVA_MT => 397862\n",
      "NU_NOTA_CN => 397862\n",
      "NU_NOTA_CH => 327457\n",
      "NU_NOTA_LC => 327457\n",
      "NU_NOTA_MT => 397862\n",
      "TX_RESPOSTAS_CN => 397862\n",
      "TX_RESPOSTAS_CH => 327457\n",
      "TX_RESPOSTAS_LC => 327457\n",
      "TX_RESPOSTAS_MT => 397862\n",
      "TX_GABARITO_CN => 397862\n",
      "TX_GABARITO_CH => 327457\n",
      "TX_GABARITO_LC => 327457\n",
      "TX_GABARITO_MT => 397862\n",
      "TP_STATUS_REDACAO => 327457\n",
      "NU_NOTA_COMP1 => 327457\n",
      "NU_NOTA_COMP2 => 327457\n",
      "NU_NOTA_COMP3 => 327457\n",
      "NU_NOTA_COMP4 => 327457\n",
      "NU_NOTA_COMP5 => 327457\n",
      "NU_NOTA_REDACAO => 327457\n",
      "Q003 => 1\n",
      "Q004 => 1\n",
      "Q005 => 1\n",
      "Q006 => 1\n",
      "Q007 => 1\n",
      "Q008 => 1\n",
      "Q009 => 1\n",
      "Q010 => 1\n",
      "Q011 => 1\n",
      "Q012 => 1\n",
      "Q013 => 1\n",
      "Q014 => 1\n",
      "Q015 => 1\n",
      "Q016 => 1\n",
      "Q017 => 1\n",
      "Q018 => 1\n",
      "Q019 => 1\n",
      "Q020 => 1\n",
      "Q021 => 1\n",
      "Q022 => 1\n",
      "Q023 => 1\n",
      "Q024 => 1\n",
      "Q025 => 1\n",
      "Q026 => 2\n",
      "Q027 => 1\n",
      "schools_without_null:  1785914\n"
     ]
    }
   ],
   "source": [
    "nullvalues = (df.isnull().sum())\n",
    "total_size = df.shape[0]\n",
    "schools_without_null = 0\n",
    "columns = list(df)\n",
    "for idx, col in enumerate(columns):\n",
    "    if col == 'TP_DEPENDENCIA_ADM_ESC':\n",
    "        schools_without_null = total_size - nullvalues[idx]\n",
    "    if nullvalues[idx] > 0:\n",
    "        print(col + ' => '+str(nullvalues[idx]))\n",
    "print('schools_without_null: ', schools_without_null)"
   ]
  },
  {
   "cell_type": "markdown",
   "metadata": {},
   "source": [
    "## Porcentage of available data"
   ]
  },
  {
   "cell_type": "code",
   "execution_count": 9,
   "metadata": {},
   "outputs": [
    {
     "name": "stdout",
     "output_type": "stream",
     "text": [
      "26.531325630361025\n"
     ]
    }
   ],
   "source": [
    "# total = df.shape[0]\n",
    "\n",
    "porcentage = (schools_without_null * 100) / totalGlobal\n",
    "print(porcentage)"
   ]
  },
  {
   "cell_type": "code",
   "execution_count": 10,
   "metadata": {},
   "outputs": [
    {
     "data": {
      "text/plain": [
       "(1785914, 137)"
      ]
     },
     "execution_count": 10,
     "metadata": {},
     "output_type": "execute_result"
    }
   ],
   "source": [
    "df.shape"
   ]
  },
  {
   "cell_type": "markdown",
   "metadata": {},
   "source": [
    "## Tipo de Escola"
   ]
  },
  {
   "cell_type": "code",
   "execution_count": 11,
   "metadata": {},
   "outputs": [
    {
     "data": {
      "text/plain": [
       "2.0    1423466\n",
       "3.0      20375\n",
       "4.0     297228\n",
       "1.0      44845\n",
       "Name: TP_DEPENDENCIA_ADM_ESC, dtype: int64"
      ]
     },
     "execution_count": 11,
     "metadata": {},
     "output_type": "execute_result"
    }
   ],
   "source": [
    "df['TP_DEPENDENCIA_ADM_ESC'].value_counts(sort = False)"
   ]
  },
  {
   "cell_type": "code",
   "execution_count": 13,
   "metadata": {},
   "outputs": [
    {
     "name": "stdout",
     "output_type": "stream",
     "text": [
      "2.0 79.70518177247057\n",
      "3.0 1.1408724048302439\n",
      "4.0 16.642906657319447\n",
      "1.0 2.511039165379744\n",
      "**************************************************\n",
      "1.0 2.511039165379744 44845\n",
      "2.0 79.70518177247057 1423466\n",
      "3.0 1.1408724048302439 20375\n",
      "4.0 16.642906657319447 297228\n"
     ]
    }
   ],
   "source": [
    "a = df['TP_DEPENDENCIA_ADM_ESC'].value_counts(sort = False).to_dict()\n",
    "\n",
    "for idx, value in a.items():\n",
    "    x = (value * 100) / schools_without_null\n",
    "    print(idx, x)\n",
    "    \n",
    "print('*'*50)\n",
    "\n",
    "values_percent_to_save = []\n",
    "values_to_save = []\n",
    "for idx, value in sorted(a.items()):\n",
    "    x = (value * 100) / schools_without_null\n",
    "    values_percent_to_save.append(x)\n",
    "    values_to_save.append(value)\n",
    "    print(idx, x, value)"
   ]
  },
  {
   "cell_type": "code",
   "execution_count": 14,
   "metadata": {},
   "outputs": [
    {
     "data": {
      "text/html": [
       "<div>\n",
       "<style scoped>\n",
       "    .dataframe tbody tr th:only-of-type {\n",
       "        vertical-align: middle;\n",
       "    }\n",
       "\n",
       "    .dataframe tbody tr th {\n",
       "        vertical-align: top;\n",
       "    }\n",
       "\n",
       "    .dataframe thead th {\n",
       "        text-align: right;\n",
       "    }\n",
       "</style>\n",
       "<table border=\"1\" class=\"dataframe\">\n",
       "  <thead>\n",
       "    <tr style=\"text-align: right;\">\n",
       "      <th></th>\n",
       "      <th>2012</th>\n",
       "      <th>2012_values</th>\n",
       "      <th>2013</th>\n",
       "      <th>2013_values</th>\n",
       "      <th>2014</th>\n",
       "      <th>2014_values</th>\n",
       "      <th>2015</th>\n",
       "      <th>2015_values</th>\n",
       "      <th>2016</th>\n",
       "      <th>2016_values</th>\n",
       "      <th>2017</th>\n",
       "      <th>2017_values</th>\n",
       "    </tr>\n",
       "  </thead>\n",
       "  <tbody>\n",
       "    <tr>\n",
       "      <td>0</td>\n",
       "      <td>1.720580</td>\n",
       "      <td>26254</td>\n",
       "      <td>1.796744</td>\n",
       "      <td>29392</td>\n",
       "      <td>1.834787</td>\n",
       "      <td>32262</td>\n",
       "      <td>2.073175</td>\n",
       "      <td>34192</td>\n",
       "      <td>2.059287</td>\n",
       "      <td>38741</td>\n",
       "      <td>2.511039</td>\n",
       "      <td>44845</td>\n",
       "    </tr>\n",
       "    <tr>\n",
       "      <td>1</td>\n",
       "      <td>77.525049</td>\n",
       "      <td>1182940</td>\n",
       "      <td>77.938965</td>\n",
       "      <td>1274963</td>\n",
       "      <td>75.430275</td>\n",
       "      <td>1326329</td>\n",
       "      <td>78.433635</td>\n",
       "      <td>1293573</td>\n",
       "      <td>79.814031</td>\n",
       "      <td>1501527</td>\n",
       "      <td>79.705182</td>\n",
       "      <td>1423466</td>\n",
       "    </tr>\n",
       "    <tr>\n",
       "      <td>2</td>\n",
       "      <td>1.185938</td>\n",
       "      <td>18096</td>\n",
       "      <td>1.150657</td>\n",
       "      <td>18823</td>\n",
       "      <td>1.046833</td>\n",
       "      <td>18407</td>\n",
       "      <td>1.038588</td>\n",
       "      <td>17129</td>\n",
       "      <td>1.149961</td>\n",
       "      <td>21634</td>\n",
       "      <td>1.140872</td>\n",
       "      <td>20375</td>\n",
       "    </tr>\n",
       "    <tr>\n",
       "      <td>3</td>\n",
       "      <td>19.568433</td>\n",
       "      <td>298591</td>\n",
       "      <td>19.113634</td>\n",
       "      <td>312670</td>\n",
       "      <td>21.688104</td>\n",
       "      <td>381353</td>\n",
       "      <td>18.454602</td>\n",
       "      <td>304364</td>\n",
       "      <td>16.976721</td>\n",
       "      <td>319380</td>\n",
       "      <td>16.642907</td>\n",
       "      <td>297228</td>\n",
       "    </tr>\n",
       "  </tbody>\n",
       "</table>\n",
       "</div>"
      ],
      "text/plain": [
       "        2012  2012_values       2013  2013_values       2014  2014_values  \\\n",
       "0   1.720580        26254   1.796744        29392   1.834787        32262   \n",
       "1  77.525049      1182940  77.938965      1274963  75.430275      1326329   \n",
       "2   1.185938        18096   1.150657        18823   1.046833        18407   \n",
       "3  19.568433       298591  19.113634       312670  21.688104       381353   \n",
       "\n",
       "        2015  2015_values       2016  2016_values       2017  2017_values  \n",
       "0   2.073175        34192   2.059287        38741   2.511039        44845  \n",
       "1  78.433635      1293573  79.814031      1501527  79.705182      1423466  \n",
       "2   1.038588        17129   1.149961        21634   1.140872        20375  \n",
       "3  18.454602       304364  16.976721       319380  16.642907       297228  "
      ]
     },
     "execution_count": 14,
     "metadata": {},
     "output_type": "execute_result"
    }
   ],
   "source": [
    "csv_input = pd.read_csv('results_for_school.csv')\n",
    "csv_input['2017'] = values_percent_to_save\n",
    "csv_input['2017_values'] = values_to_save\n",
    "csv_input.head()"
   ]
  },
  {
   "cell_type": "code",
   "execution_count": 15,
   "metadata": {},
   "outputs": [],
   "source": [
    "export_csv = csv_input.to_csv (r'results_for_school.csv', index = None, header=True)"
   ]
  },
  {
   "cell_type": "markdown",
   "metadata": {},
   "source": [
    "## Alumno con necesidades especiales"
   ]
  },
  {
   "cell_type": "code",
   "execution_count": 16,
   "metadata": {},
   "outputs": [
    {
     "data": {
      "text/plain": [
       "(1785914, 137)"
      ]
     },
     "execution_count": 16,
     "metadata": {},
     "output_type": "execute_result"
    }
   ],
   "source": [
    "df.shape"
   ]
  },
  {
   "cell_type": "code",
   "execution_count": 17,
   "metadata": {},
   "outputs": [
    {
     "name": "stdout",
     "output_type": "stream",
     "text": [
      "There is not elements on:  IN_SABATISTA\n",
      "total_necesidades:  13293\n",
      "0.7443247547194322\n"
     ]
    }
   ],
   "source": [
    "array = ['IN_BAIXA_VISAO', 'IN_CEGUEIRA', 'IN_SURDEZ', 'IN_DEFICIENCIA_AUDITIVA', 'IN_SURDO_CEGUEIRA', 'IN_DEFICIENCIA_FISICA', 'IN_DEFICIENCIA_MENTAL', 'IN_DEFICIT_ATENCAO', 'IN_DISLEXIA', 'IN_GESTANTE', 'IN_LACTANTE', 'IN_IDOSO', 'IN_DISCALCULIA', 'IN_AUTISMO', 'IN_VISAO_MONOCULAR', 'IN_SABATISTA', 'IN_OUTRA_DEF']\n",
    "total_necesidades = 0\n",
    "for item in array:\n",
    "    try:\n",
    "        aux = df[item].value_counts().to_dict()\n",
    "        total_necesidades += aux[1]\n",
    "    except:\n",
    "        print('There is not elements on: ', item)\n",
    "print('total_necesidades: ', total_necesidades)\n",
    "\n",
    "aux = (total_necesidades * 100)/df.shape[0]\n",
    "print(aux)"
   ]
  },
  {
   "cell_type": "code",
   "execution_count": 18,
   "metadata": {},
   "outputs": [
    {
     "data": {
      "text/html": [
       "<div>\n",
       "<style scoped>\n",
       "    .dataframe tbody tr th:only-of-type {\n",
       "        vertical-align: middle;\n",
       "    }\n",
       "\n",
       "    .dataframe tbody tr th {\n",
       "        vertical-align: top;\n",
       "    }\n",
       "\n",
       "    .dataframe thead th {\n",
       "        text-align: right;\n",
       "    }\n",
       "</style>\n",
       "<table border=\"1\" class=\"dataframe\">\n",
       "  <thead>\n",
       "    <tr style=\"text-align: right;\">\n",
       "      <th></th>\n",
       "      <th>Region</th>\n",
       "      <th>2012</th>\n",
       "      <th>2012_values</th>\n",
       "      <th>2013</th>\n",
       "      <th>2013_values</th>\n",
       "      <th>2014</th>\n",
       "      <th>2014_values</th>\n",
       "      <th>2015</th>\n",
       "      <th>2015_values</th>\n",
       "      <th>2016</th>\n",
       "      <th>2016_values</th>\n",
       "      <th>2017</th>\n",
       "      <th>2017_values</th>\n",
       "    </tr>\n",
       "  </thead>\n",
       "  <tbody>\n",
       "    <tr>\n",
       "      <td>0</td>\n",
       "      <td>SUL</td>\n",
       "      <td>13.855209</td>\n",
       "      <td>211414</td>\n",
       "      <td>13.893711</td>\n",
       "      <td>227280</td>\n",
       "      <td>13.415808</td>\n",
       "      <td>235897</td>\n",
       "      <td>13.169619</td>\n",
       "      <td>217201</td>\n",
       "      <td>40.337812</td>\n",
       "      <td>28812</td>\n",
       "      <td>0.744325</td>\n",
       "      <td>13293</td>\n",
       "    </tr>\n",
       "    <tr>\n",
       "      <td>1</td>\n",
       "      <td>NORTE</td>\n",
       "      <td>9.174896</td>\n",
       "      <td>139998</td>\n",
       "      <td>9.219622</td>\n",
       "      <td>150819</td>\n",
       "      <td>9.028175</td>\n",
       "      <td>158747</td>\n",
       "      <td>8.914857</td>\n",
       "      <td>147029</td>\n",
       "      <td>40.337812</td>\n",
       "      <td>28812</td>\n",
       "      <td>0.744325</td>\n",
       "      <td>13293</td>\n",
       "    </tr>\n",
       "    <tr>\n",
       "      <td>2</td>\n",
       "      <td>NORDESTE</td>\n",
       "      <td>26.839642</td>\n",
       "      <td>409541</td>\n",
       "      <td>27.493202</td>\n",
       "      <td>449747</td>\n",
       "      <td>26.701836</td>\n",
       "      <td>469512</td>\n",
       "      <td>27.485754</td>\n",
       "      <td>453311</td>\n",
       "      <td>40.337812</td>\n",
       "      <td>28812</td>\n",
       "      <td>0.744325</td>\n",
       "      <td>13293</td>\n",
       "    </tr>\n",
       "    <tr>\n",
       "      <td>3</td>\n",
       "      <td>CENTROOESTE</td>\n",
       "      <td>8.539919</td>\n",
       "      <td>130309</td>\n",
       "      <td>8.366548</td>\n",
       "      <td>136864</td>\n",
       "      <td>11.502595</td>\n",
       "      <td>202256</td>\n",
       "      <td>8.665473</td>\n",
       "      <td>142916</td>\n",
       "      <td>40.337812</td>\n",
       "      <td>28812</td>\n",
       "      <td>0.744325</td>\n",
       "      <td>13293</td>\n",
       "    </tr>\n",
       "    <tr>\n",
       "      <td>4</td>\n",
       "      <td>SUDESTE</td>\n",
       "      <td>41.590334</td>\n",
       "      <td>634619</td>\n",
       "      <td>41.026917</td>\n",
       "      <td>671138</td>\n",
       "      <td>39.351586</td>\n",
       "      <td>691939</td>\n",
       "      <td>41.764296</td>\n",
       "      <td>688801</td>\n",
       "      <td>40.337812</td>\n",
       "      <td>28812</td>\n",
       "      <td>0.744325</td>\n",
       "      <td>13293</td>\n",
       "    </tr>\n",
       "  </tbody>\n",
       "</table>\n",
       "</div>"
      ],
      "text/plain": [
       "        Region       2012  2012_values       2013  2013_values       2014  \\\n",
       "0          SUL  13.855209       211414  13.893711       227280  13.415808   \n",
       "1        NORTE   9.174896       139998   9.219622       150819   9.028175   \n",
       "2     NORDESTE  26.839642       409541  27.493202       449747  26.701836   \n",
       "3  CENTROOESTE   8.539919       130309   8.366548       136864  11.502595   \n",
       "4      SUDESTE  41.590334       634619  41.026917       671138  39.351586   \n",
       "\n",
       "   2014_values       2015  2015_values       2016  2016_values      2017  \\\n",
       "0       235897  13.169619       217201  40.337812        28812  0.744325   \n",
       "1       158747   8.914857       147029  40.337812        28812  0.744325   \n",
       "2       469512  27.485754       453311  40.337812        28812  0.744325   \n",
       "3       202256   8.665473       142916  40.337812        28812  0.744325   \n",
       "4       691939  41.764296       688801  40.337812        28812  0.744325   \n",
       "\n",
       "   2017_values  \n",
       "0        13293  \n",
       "1        13293  \n",
       "2        13293  \n",
       "3        13293  \n",
       "4        13293  "
      ]
     },
     "execution_count": 18,
     "metadata": {},
     "output_type": "execute_result"
    }
   ],
   "source": [
    "csv_input = pd.read_csv('results_special_needs.csv')\n",
    "csv_input['2017'] = aux\n",
    "csv_input['2017_values'] = total_necesidades\n",
    "csv_input.head()"
   ]
  },
  {
   "cell_type": "code",
   "execution_count": 19,
   "metadata": {},
   "outputs": [],
   "source": [
    "export_csv = csv_input.to_csv (r'results_special_needs.csv', index = None, header=True)"
   ]
  },
  {
   "cell_type": "markdown",
   "metadata": {},
   "source": [
    "## Aluno por regiao"
   ]
  },
  {
   "cell_type": "code",
   "execution_count": 20,
   "metadata": {},
   "outputs": [
    {
     "data": {
      "text/plain": [
       "SP    386714\n",
       "MG    177552\n",
       "RJ    130120\n",
       "CE    120701\n",
       "BA    103505\n",
       "PR    100024\n",
       "PE     80121\n",
       "RS     80042\n",
       "PA     75653\n",
       "MA     64647\n",
       "GO     61533\n",
       "AM     43624\n",
       "ES     38349\n",
       "SC     35571\n",
       "PI     34454\n",
       "DF     32913\n",
       "PB     31803\n",
       "MT     31376\n",
       "RN     28164\n",
       "AL     25389\n",
       "MS     21788\n",
       "SE     19178\n",
       "RO     18862\n",
       "TO     17038\n",
       "AP     11079\n",
       "AC     10518\n",
       "RR      5196\n",
       "Name: SG_UF_ESC, dtype: int64"
      ]
     },
     "execution_count": 20,
     "metadata": {},
     "output_type": "execute_result"
    }
   ],
   "source": [
    "array_kinds_regions = ['NU_NOTA_CN', 'NU_NOTA_CH', 'NU_NOTA_LC', 'NU_NOTA_MT']\n",
    "\n",
    "df['SG_UF_ESC'].value_counts()"
   ]
  },
  {
   "cell_type": "code",
   "execution_count": 21,
   "metadata": {},
   "outputs": [
    {
     "name": "stdout",
     "output_type": "stream",
     "text": [
      "215637\n",
      "181970\n",
      "507962\n",
      "147610\n",
      "732735\n"
     ]
    }
   ],
   "source": [
    "df_SUL = df.loc[df['SG_UF_ESC'].isin(['RS','SC','PR'])]\n",
    "df_NORTE = df.loc[df['SG_UF_ESC'].isin(['AC','AP','AM', 'PA', 'RO', 'RR', 'TO'])]\n",
    "df_NORDESTE = df.loc[df['SG_UF_ESC'].isin(['AL','BA','CE', 'MA', 'PB', 'PI', 'PE', 'RN', 'SE'])]\n",
    "df_CENTROOESTE = df.loc[df['SG_UF_ESC'].isin(['DF','GO','MT', 'MS'])]\n",
    "df_SUDESTE = df.loc[df['SG_UF_ESC'].isin(['ES','MG','RJ', 'SP'])]\n",
    "\n",
    "\n",
    "print(df_SUL.shape[0])\n",
    "print(df_NORTE.shape[0])\n",
    "print(df_NORDESTE.shape[0])\n",
    "print(df_CENTROOESTE.shape[0])\n",
    "print(df_SUDESTE.shape[0])\n"
   ]
  },
  {
   "cell_type": "code",
   "execution_count": 24,
   "metadata": {},
   "outputs": [
    {
     "name": "stdout",
     "output_type": "stream",
     "text": [
      "SUL:  12.074321607871376\n",
      "NORTE:  10.18918044205936\n",
      "NORDESTE:  28.442690969441976\n",
      "CENTROOESTE:  8.2652356160487\n",
      "SUDESTE:  41.02857136457859\n"
     ]
    }
   ],
   "source": [
    "total = df.shape[0]\n",
    "auxPercent = []\n",
    "auxValues = []\n",
    "auxSul =  (df_SUL.shape[0] * 100) / total\n",
    "print('SUL: ', auxSul)\n",
    "auxValues.append(df_SUL.shape[0])\n",
    "auxPercent.append(auxSul)\n",
    "\n",
    "auxNorte =  (df_NORTE.shape[0] * 100) / total\n",
    "print('NORTE: ', auxNorte)\n",
    "auxValues.append(df_NORTE.shape[0])\n",
    "auxPercent.append(auxNorte)\n",
    "\n",
    "auxNordeste =  (df_NORDESTE.shape[0] * 100) / total\n",
    "print('NORDESTE: ', auxNordeste)\n",
    "auxValues.append(df_NORDESTE.shape[0])\n",
    "auxPercent.append(auxNordeste)\n",
    "\n",
    "auxCentrooeste =  (df_CENTROOESTE.shape[0] * 100) / total\n",
    "print('CENTROOESTE: ', auxCentrooeste)\n",
    "auxValues.append(df_CENTROOESTE.shape[0])\n",
    "auxPercent.append(auxCentrooeste)\n",
    "\n",
    "auxSudeste =  (df_SUDESTE.shape[0] * 100) / total\n",
    "print('SUDESTE: ', auxSudeste)\n",
    "auxValues.append(df_SUDESTE.shape[0])\n",
    "auxPercent.append(auxSudeste)"
   ]
  },
  {
   "cell_type": "code",
   "execution_count": 25,
   "metadata": {},
   "outputs": [
    {
     "data": {
      "text/html": [
       "<div>\n",
       "<style scoped>\n",
       "    .dataframe tbody tr th:only-of-type {\n",
       "        vertical-align: middle;\n",
       "    }\n",
       "\n",
       "    .dataframe tbody tr th {\n",
       "        vertical-align: top;\n",
       "    }\n",
       "\n",
       "    .dataframe thead th {\n",
       "        text-align: right;\n",
       "    }\n",
       "</style>\n",
       "<table border=\"1\" class=\"dataframe\">\n",
       "  <thead>\n",
       "    <tr style=\"text-align: right;\">\n",
       "      <th></th>\n",
       "      <th>Region</th>\n",
       "      <th>2012</th>\n",
       "      <th>2012_values</th>\n",
       "      <th>2013</th>\n",
       "      <th>2013_values</th>\n",
       "      <th>2014</th>\n",
       "      <th>2014_values</th>\n",
       "      <th>2015</th>\n",
       "      <th>2015_values</th>\n",
       "      <th>2016</th>\n",
       "      <th>2016_values</th>\n",
       "      <th>2017</th>\n",
       "      <th>2017_values</th>\n",
       "    </tr>\n",
       "  </thead>\n",
       "  <tbody>\n",
       "    <tr>\n",
       "      <td>0</td>\n",
       "      <td>SUL</td>\n",
       "      <td>13.855209</td>\n",
       "      <td>211414</td>\n",
       "      <td>13.893711</td>\n",
       "      <td>227280</td>\n",
       "      <td>13.415808</td>\n",
       "      <td>235897</td>\n",
       "      <td>13.169619</td>\n",
       "      <td>217201</td>\n",
       "      <td>13.859751</td>\n",
       "      <td>260741</td>\n",
       "      <td>12.074322</td>\n",
       "      <td>215637</td>\n",
       "    </tr>\n",
       "    <tr>\n",
       "      <td>1</td>\n",
       "      <td>NORTE</td>\n",
       "      <td>9.174896</td>\n",
       "      <td>139998</td>\n",
       "      <td>9.219622</td>\n",
       "      <td>150819</td>\n",
       "      <td>9.028175</td>\n",
       "      <td>158747</td>\n",
       "      <td>8.914857</td>\n",
       "      <td>147029</td>\n",
       "      <td>9.688978</td>\n",
       "      <td>182277</td>\n",
       "      <td>10.189180</td>\n",
       "      <td>181970</td>\n",
       "    </tr>\n",
       "    <tr>\n",
       "      <td>2</td>\n",
       "      <td>NORDESTE</td>\n",
       "      <td>26.839642</td>\n",
       "      <td>409541</td>\n",
       "      <td>27.493202</td>\n",
       "      <td>449747</td>\n",
       "      <td>26.701836</td>\n",
       "      <td>469512</td>\n",
       "      <td>27.485754</td>\n",
       "      <td>453311</td>\n",
       "      <td>27.659862</td>\n",
       "      <td>520360</td>\n",
       "      <td>28.442691</td>\n",
       "      <td>507962</td>\n",
       "    </tr>\n",
       "    <tr>\n",
       "      <td>3</td>\n",
       "      <td>CENTROOESTE</td>\n",
       "      <td>8.539919</td>\n",
       "      <td>130309</td>\n",
       "      <td>8.366548</td>\n",
       "      <td>136864</td>\n",
       "      <td>11.502595</td>\n",
       "      <td>202256</td>\n",
       "      <td>8.665473</td>\n",
       "      <td>142916</td>\n",
       "      <td>8.453597</td>\n",
       "      <td>159036</td>\n",
       "      <td>8.265236</td>\n",
       "      <td>147610</td>\n",
       "    </tr>\n",
       "    <tr>\n",
       "      <td>4</td>\n",
       "      <td>SUDESTE</td>\n",
       "      <td>41.590334</td>\n",
       "      <td>634619</td>\n",
       "      <td>41.026917</td>\n",
       "      <td>671138</td>\n",
       "      <td>39.351586</td>\n",
       "      <td>691939</td>\n",
       "      <td>41.764296</td>\n",
       "      <td>688801</td>\n",
       "      <td>40.337812</td>\n",
       "      <td>758868</td>\n",
       "      <td>41.028571</td>\n",
       "      <td>732735</td>\n",
       "    </tr>\n",
       "  </tbody>\n",
       "</table>\n",
       "</div>"
      ],
      "text/plain": [
       "        Region       2012  2012_values       2013  2013_values       2014  \\\n",
       "0          SUL  13.855209       211414  13.893711       227280  13.415808   \n",
       "1        NORTE   9.174896       139998   9.219622       150819   9.028175   \n",
       "2     NORDESTE  26.839642       409541  27.493202       449747  26.701836   \n",
       "3  CENTROOESTE   8.539919       130309   8.366548       136864  11.502595   \n",
       "4      SUDESTE  41.590334       634619  41.026917       671138  39.351586   \n",
       "\n",
       "   2014_values       2015  2015_values       2016  2016_values       2017  \\\n",
       "0       235897  13.169619       217201  13.859751       260741  12.074322   \n",
       "1       158747   8.914857       147029   9.688978       182277  10.189180   \n",
       "2       469512  27.485754       453311  27.659862       520360  28.442691   \n",
       "3       202256   8.665473       142916   8.453597       159036   8.265236   \n",
       "4       691939  41.764296       688801  40.337812       758868  41.028571   \n",
       "\n",
       "   2017_values  \n",
       "0       215637  \n",
       "1       181970  \n",
       "2       507962  \n",
       "3       147610  \n",
       "4       732735  "
      ]
     },
     "execution_count": 25,
     "metadata": {},
     "output_type": "execute_result"
    }
   ],
   "source": [
    "csv_input = pd.read_csv('results_for_region.csv')\n",
    "csv_input['2017'] = auxPercent\n",
    "csv_input['2017_values'] = auxValues\n",
    "csv_input.head()"
   ]
  },
  {
   "cell_type": "code",
   "execution_count": 26,
   "metadata": {},
   "outputs": [],
   "source": [
    "export_csv = csv_input.to_csv (r'results_for_region.csv', index = None, header=True)"
   ]
  }
 ],
 "metadata": {
  "kernelspec": {
   "display_name": "Python 3",
   "language": "python",
   "name": "python3"
  },
  "language_info": {
   "codemirror_mode": {
    "name": "ipython",
    "version": 3
   },
   "file_extension": ".py",
   "mimetype": "text/x-python",
   "name": "python",
   "nbconvert_exporter": "python",
   "pygments_lexer": "ipython3",
   "version": "3.7.4"
  }
 },
 "nbformat": 4,
 "nbformat_minor": 2
}
